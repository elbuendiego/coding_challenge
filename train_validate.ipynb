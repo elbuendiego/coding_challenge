{
  "nbformat": 4,
  "nbformat_minor": 0,
  "metadata": {
    "colab": {
      "name": "train_validate.ipynb",
      "provenance": [],
      "authorship_tag": "ABX9TyPpdH+9FBZHBuZJ/qCUqZKe",
      "include_colab_link": true
    },
    "kernelspec": {
      "name": "python3",
      "display_name": "Python 3"
    },
    "language_info": {
      "name": "python"
    }
  },
  "cells": [
    {
      "cell_type": "markdown",
      "metadata": {
        "id": "view-in-github",
        "colab_type": "text"
      },
      "source": [
        "<a href=\"https://colab.research.google.com/github/elbuendiego/coding_challenge/blob/main/train_validate.ipynb\" target=\"_parent\"><img src=\"https://colab.research.google.com/assets/colab-badge.svg\" alt=\"Open In Colab\"/></a>"
      ]
    },
    {
      "cell_type": "markdown",
      "source": [
        "# Model Training and validation"
      ],
      "metadata": {
        "id": "1BlMqsy3m5KN"
      }
    },
    {
      "cell_type": "markdown",
      "source": [
        "Import required libraries"
      ],
      "metadata": {
        "id": "Ff0nrJUFm_YH"
      }
    },
    {
      "cell_type": "code",
      "execution_count": 4,
      "metadata": {
        "id": "lXhmzeP-IMQR"
      },
      "outputs": [],
      "source": [
        "import numpy as np\n",
        "import pandas as pd\n",
        "import os\n",
        "\n",
        "from sklearn.ensemble import RandomForestRegressor\n",
        "from sklearn.model_selection import RandomizedSearchCV, GridSearchCV, train_test_split\n",
        "from sklearn.metrics import mean_absolute_error, r2_score\n",
        "\n",
        "import matplotlib.pyplot as plt"
      ]
    },
    {
      "cell_type": "markdown",
      "source": [
        "First import dataset of features and predictand"
      ],
      "metadata": {
        "id": "zwynb-9wo2pO"
      }
    },
    {
      "cell_type": "code",
      "source": [
        "df = pd.read_csv(os.path.join(\"Data\",\"train_test_dataset.csv\"), index_col=0)\n",
        "df.head()"
      ],
      "metadata": {
        "colab": {
          "base_uri": "https://localhost:8080/",
          "height": 250
        },
        "id": "50yklhUynzSy",
        "outputId": "7aa80704-dd37-419d-bad1-c2eb92acc6d0"
      },
      "execution_count": 6,
      "outputs": [
        {
          "output_type": "execute_result",
          "data": {
            "text/html": [
              "\n",
              "  <div id=\"df-e56ad64e-f402-4043-a249-c032f332acf7\">\n",
              "    <div class=\"colab-df-container\">\n",
              "      <div>\n",
              "<style scoped>\n",
              "    .dataframe tbody tr th:only-of-type {\n",
              "        vertical-align: middle;\n",
              "    }\n",
              "\n",
              "    .dataframe tbody tr th {\n",
              "        vertical-align: top;\n",
              "    }\n",
              "\n",
              "    .dataframe thead th {\n",
              "        text-align: right;\n",
              "    }\n",
              "</style>\n",
              "<table border=\"1\" class=\"dataframe\">\n",
              "  <thead>\n",
              "    <tr style=\"text-align: right;\">\n",
              "      <th></th>\n",
              "      <th>flow0</th>\n",
              "      <th>dflow</th>\n",
              "      <th>temp0</th>\n",
              "      <th>temp_1</th>\n",
              "      <th>pr0</th>\n",
              "      <th>pr_1</th>\n",
              "      <th>pr_Autumn</th>\n",
              "      <th>temp_Winter</th>\n",
              "      <th>temp_Spring</th>\n",
              "      <th>flow7</th>\n",
              "    </tr>\n",
              "  </thead>\n",
              "  <tbody>\n",
              "    <tr>\n",
              "      <th>1958-01-12</th>\n",
              "      <td>-6.343972</td>\n",
              "      <td>-0.786185</td>\n",
              "      <td>-13.534921</td>\n",
              "      <td>-11.968254</td>\n",
              "      <td>2.162414</td>\n",
              "      <td>-1.820125</td>\n",
              "      <td>-999.0</td>\n",
              "      <td>-4.309683</td>\n",
              "      <td>-999.0</td>\n",
              "      <td>-1.177723</td>\n",
              "    </tr>\n",
              "    <tr>\n",
              "      <th>1958-01-19</th>\n",
              "      <td>-6.079429</td>\n",
              "      <td>0.264543</td>\n",
              "      <td>-5.780952</td>\n",
              "      <td>-13.534921</td>\n",
              "      <td>-0.609014</td>\n",
              "      <td>2.162414</td>\n",
              "      <td>-999.0</td>\n",
              "      <td>-5.148341</td>\n",
              "      <td>-999.0</td>\n",
              "      <td>-0.918714</td>\n",
              "    </tr>\n",
              "    <tr>\n",
              "      <th>1958-01-26</th>\n",
              "      <td>-6.630067</td>\n",
              "      <td>-0.550638</td>\n",
              "      <td>-12.282540</td>\n",
              "      <td>-5.780952</td>\n",
              "      <td>-0.724887</td>\n",
              "      <td>-0.609014</td>\n",
              "      <td>-999.0</td>\n",
              "      <td>-5.201058</td>\n",
              "      <td>-999.0</td>\n",
              "      <td>-0.856507</td>\n",
              "    </tr>\n",
              "    <tr>\n",
              "      <th>1958-02-02</th>\n",
              "      <td>-6.339438</td>\n",
              "      <td>0.290629</td>\n",
              "      <td>-2.928571</td>\n",
              "      <td>-12.282540</td>\n",
              "      <td>-2.112189</td>\n",
              "      <td>-0.724887</td>\n",
              "      <td>-999.0</td>\n",
              "      <td>-5.745788</td>\n",
              "      <td>-999.0</td>\n",
              "      <td>-1.025176</td>\n",
              "    </tr>\n",
              "    <tr>\n",
              "      <th>1958-02-09</th>\n",
              "      <td>-6.491128</td>\n",
              "      <td>-0.151690</td>\n",
              "      <td>-13.398413</td>\n",
              "      <td>-2.928571</td>\n",
              "      <td>-0.943935</td>\n",
              "      <td>-2.112189</td>\n",
              "      <td>-999.0</td>\n",
              "      <td>-5.544558</td>\n",
              "      <td>-999.0</td>\n",
              "      <td>-0.563749</td>\n",
              "    </tr>\n",
              "  </tbody>\n",
              "</table>\n",
              "</div>\n",
              "      <button class=\"colab-df-convert\" onclick=\"convertToInteractive('df-e56ad64e-f402-4043-a249-c032f332acf7')\"\n",
              "              title=\"Convert this dataframe to an interactive table.\"\n",
              "              style=\"display:none;\">\n",
              "        \n",
              "  <svg xmlns=\"http://www.w3.org/2000/svg\" height=\"24px\"viewBox=\"0 0 24 24\"\n",
              "       width=\"24px\">\n",
              "    <path d=\"M0 0h24v24H0V0z\" fill=\"none\"/>\n",
              "    <path d=\"M18.56 5.44l.94 2.06.94-2.06 2.06-.94-2.06-.94-.94-2.06-.94 2.06-2.06.94zm-11 1L8.5 8.5l.94-2.06 2.06-.94-2.06-.94L8.5 2.5l-.94 2.06-2.06.94zm10 10l.94 2.06.94-2.06 2.06-.94-2.06-.94-.94-2.06-.94 2.06-2.06.94z\"/><path d=\"M17.41 7.96l-1.37-1.37c-.4-.4-.92-.59-1.43-.59-.52 0-1.04.2-1.43.59L10.3 9.45l-7.72 7.72c-.78.78-.78 2.05 0 2.83L4 21.41c.39.39.9.59 1.41.59.51 0 1.02-.2 1.41-.59l7.78-7.78 2.81-2.81c.8-.78.8-2.07 0-2.86zM5.41 20L4 18.59l7.72-7.72 1.47 1.35L5.41 20z\"/>\n",
              "  </svg>\n",
              "      </button>\n",
              "      \n",
              "  <style>\n",
              "    .colab-df-container {\n",
              "      display:flex;\n",
              "      flex-wrap:wrap;\n",
              "      gap: 12px;\n",
              "    }\n",
              "\n",
              "    .colab-df-convert {\n",
              "      background-color: #E8F0FE;\n",
              "      border: none;\n",
              "      border-radius: 50%;\n",
              "      cursor: pointer;\n",
              "      display: none;\n",
              "      fill: #1967D2;\n",
              "      height: 32px;\n",
              "      padding: 0 0 0 0;\n",
              "      width: 32px;\n",
              "    }\n",
              "\n",
              "    .colab-df-convert:hover {\n",
              "      background-color: #E2EBFA;\n",
              "      box-shadow: 0px 1px 2px rgba(60, 64, 67, 0.3), 0px 1px 3px 1px rgba(60, 64, 67, 0.15);\n",
              "      fill: #174EA6;\n",
              "    }\n",
              "\n",
              "    [theme=dark] .colab-df-convert {\n",
              "      background-color: #3B4455;\n",
              "      fill: #D2E3FC;\n",
              "    }\n",
              "\n",
              "    [theme=dark] .colab-df-convert:hover {\n",
              "      background-color: #434B5C;\n",
              "      box-shadow: 0px 1px 3px 1px rgba(0, 0, 0, 0.15);\n",
              "      filter: drop-shadow(0px 1px 2px rgba(0, 0, 0, 0.3));\n",
              "      fill: #FFFFFF;\n",
              "    }\n",
              "  </style>\n",
              "\n",
              "      <script>\n",
              "        const buttonEl =\n",
              "          document.querySelector('#df-e56ad64e-f402-4043-a249-c032f332acf7 button.colab-df-convert');\n",
              "        buttonEl.style.display =\n",
              "          google.colab.kernel.accessAllowed ? 'block' : 'none';\n",
              "\n",
              "        async function convertToInteractive(key) {\n",
              "          const element = document.querySelector('#df-e56ad64e-f402-4043-a249-c032f332acf7');\n",
              "          const dataTable =\n",
              "            await google.colab.kernel.invokeFunction('convertToInteractive',\n",
              "                                                     [key], {});\n",
              "          if (!dataTable) return;\n",
              "\n",
              "          const docLinkHtml = 'Like what you see? Visit the ' +\n",
              "            '<a target=\"_blank\" href=https://colab.research.google.com/notebooks/data_table.ipynb>data table notebook</a>'\n",
              "            + ' to learn more about interactive tables.';\n",
              "          element.innerHTML = '';\n",
              "          dataTable['output_type'] = 'display_data';\n",
              "          await google.colab.output.renderOutput(dataTable, element);\n",
              "          const docLink = document.createElement('div');\n",
              "          docLink.innerHTML = docLinkHtml;\n",
              "          element.appendChild(docLink);\n",
              "        }\n",
              "      </script>\n",
              "    </div>\n",
              "  </div>\n",
              "  "
            ],
            "text/plain": [
              "               flow0     dflow      temp0     temp_1       pr0      pr_1  \\\n",
              "1958-01-12 -6.343972 -0.786185 -13.534921 -11.968254  2.162414 -1.820125   \n",
              "1958-01-19 -6.079429  0.264543  -5.780952 -13.534921 -0.609014  2.162414   \n",
              "1958-01-26 -6.630067 -0.550638 -12.282540  -5.780952 -0.724887 -0.609014   \n",
              "1958-02-02 -6.339438  0.290629  -2.928571 -12.282540 -2.112189 -0.724887   \n",
              "1958-02-09 -6.491128 -0.151690 -13.398413  -2.928571 -0.943935 -2.112189   \n",
              "\n",
              "            pr_Autumn  temp_Winter  temp_Spring     flow7  \n",
              "1958-01-12     -999.0    -4.309683       -999.0 -1.177723  \n",
              "1958-01-19     -999.0    -5.148341       -999.0 -0.918714  \n",
              "1958-01-26     -999.0    -5.201058       -999.0 -0.856507  \n",
              "1958-02-02     -999.0    -5.745788       -999.0 -1.025176  \n",
              "1958-02-09     -999.0    -5.544558       -999.0 -0.563749  "
            ]
          },
          "metadata": {},
          "execution_count": 6
        }
      ]
    },
    {
      "cell_type": "markdown",
      "source": [
        "Now to split the data"
      ],
      "metadata": {
        "id": "09MXmeAJpZO4"
      }
    },
    {
      "cell_type": "code",
      "source": [
        "X = df\n",
        "y = X.pop(\"flow7\")\n",
        "X_train, X_test, y_train, y_test = train_test_split(X, y, shuffle=False, test_size = 0.2)\n",
        "\n",
        "print(f\"There are {len(X_train)//53} years in training set.\")\n",
        "print(f\"There are {len(X_test)//53} years in test set.\")"
      ],
      "metadata": {
        "colab": {
          "base_uri": "https://localhost:8080/"
        },
        "id": "q2JBvYs_Q8Ti",
        "outputId": "38cf6df5-797f-4a17-8dd9-afc98dce03f6"
      },
      "execution_count": 7,
      "outputs": [
        {
          "output_type": "stream",
          "name": "stdout",
          "text": [
            "There are 45 years in training set.\n",
            "There are 11 years in test set.\n"
          ]
        }
      ]
    },
    {
      "cell_type": "markdown",
      "source": [
        "To train the model, a random search will be performed over a wide range of relevant parameters"
      ],
      "metadata": {
        "id": "mxOS0B4BpuvJ"
      }
    },
    {
      "cell_type": "code",
      "source": [
        "# Determine parameters over which to perform the search\n",
        "random_grid = {\n",
        "    'bootstrap': [True],\n",
        "    'max_depth': [int(x) for x in np.linspace(start = 10, stop = 170, num = 8)],\n",
        "    'max_features': [4, 5, 6, 7],\n",
        "    'min_samples_leaf': [2, 3, 4, 5, 6, 7],\n",
        "    'min_samples_split': [4, 6, 8, 10, 12, 14],\n",
        "    'n_estimators': [int(x) for x in np.linspace(start = 100, stop = 2000, num = 10)]\n",
        "}\n",
        "\n",
        "# Initiate RF regressor instance\n",
        "rf = RandomForestRegressor()\n",
        "\n",
        "# Randomly search over random_grid parameters\n",
        "rf_random = RandomizedSearchCV(estimator = rf, param_distributions = random_grid, \n",
        "                               n_iter = 50, cv = 5, verbose=2, random_state=42)\n",
        "\n",
        "# Fit model through random search\n",
        "rf_random.fit(X_train, y_train)"
      ],
      "metadata": {
        "colab": {
          "base_uri": "https://localhost:8080/"
        },
        "id": "v3zfYEgMpPPS",
        "outputId": "040b110b-6163-4beb-c813-bd7d5969a52c"
      },
      "execution_count": 168,
      "outputs": [
        {
          "output_type": "stream",
          "name": "stdout",
          "text": [
            "Fitting 10 folds for each of 50 candidates, totalling 500 fits\n",
            "[CV] END bootstrap=True, max_depth=130, max_features=4, min_samples_leaf=3, min_samples_split=6, n_estimators=100; total time=   0.7s\n",
            "[CV] END bootstrap=True, max_depth=130, max_features=4, min_samples_leaf=3, min_samples_split=6, n_estimators=100; total time=   0.7s\n",
            "[CV] END bootstrap=True, max_depth=130, max_features=4, min_samples_leaf=3, min_samples_split=6, n_estimators=100; total time=   0.7s\n",
            "[CV] END bootstrap=True, max_depth=130, max_features=4, min_samples_leaf=3, min_samples_split=6, n_estimators=100; total time=   0.7s\n",
            "[CV] END bootstrap=True, max_depth=130, max_features=4, min_samples_leaf=3, min_samples_split=6, n_estimators=100; total time=   0.7s\n",
            "[CV] END bootstrap=True, max_depth=130, max_features=4, min_samples_leaf=3, min_samples_split=6, n_estimators=100; total time=   0.7s\n",
            "[CV] END bootstrap=True, max_depth=130, max_features=4, min_samples_leaf=3, min_samples_split=6, n_estimators=100; total time=   0.7s\n",
            "[CV] END bootstrap=True, max_depth=130, max_features=4, min_samples_leaf=3, min_samples_split=6, n_estimators=100; total time=   0.7s\n",
            "[CV] END bootstrap=True, max_depth=130, max_features=4, min_samples_leaf=3, min_samples_split=6, n_estimators=100; total time=   0.7s\n",
            "[CV] END bootstrap=True, max_depth=130, max_features=4, min_samples_leaf=3, min_samples_split=6, n_estimators=100; total time=   0.7s\n",
            "[CV] END bootstrap=True, max_depth=10, max_features=6, min_samples_leaf=4, min_samples_split=8, n_estimators=100; total time=   0.7s\n",
            "[CV] END bootstrap=True, max_depth=10, max_features=6, min_samples_leaf=4, min_samples_split=8, n_estimators=100; total time=   0.7s\n",
            "[CV] END bootstrap=True, max_depth=10, max_features=6, min_samples_leaf=4, min_samples_split=8, n_estimators=100; total time=   0.7s\n",
            "[CV] END bootstrap=True, max_depth=10, max_features=6, min_samples_leaf=4, min_samples_split=8, n_estimators=100; total time=   0.7s\n",
            "[CV] END bootstrap=True, max_depth=10, max_features=6, min_samples_leaf=4, min_samples_split=8, n_estimators=100; total time=   0.7s\n",
            "[CV] END bootstrap=True, max_depth=10, max_features=6, min_samples_leaf=4, min_samples_split=8, n_estimators=100; total time=   0.7s\n",
            "[CV] END bootstrap=True, max_depth=10, max_features=6, min_samples_leaf=4, min_samples_split=8, n_estimators=100; total time=   0.7s\n",
            "[CV] END bootstrap=True, max_depth=10, max_features=6, min_samples_leaf=4, min_samples_split=8, n_estimators=100; total time=   0.7s\n",
            "[CV] END bootstrap=True, max_depth=10, max_features=6, min_samples_leaf=4, min_samples_split=8, n_estimators=100; total time=   0.7s\n",
            "[CV] END bootstrap=True, max_depth=10, max_features=6, min_samples_leaf=4, min_samples_split=8, n_estimators=100; total time=   0.7s\n",
            "[CV] END bootstrap=True, max_depth=90, max_features=6, min_samples_leaf=7, min_samples_split=14, n_estimators=100; total time=   0.8s\n",
            "[CV] END bootstrap=True, max_depth=90, max_features=6, min_samples_leaf=7, min_samples_split=14, n_estimators=100; total time=   0.8s\n",
            "[CV] END bootstrap=True, max_depth=90, max_features=6, min_samples_leaf=7, min_samples_split=14, n_estimators=100; total time=   0.8s\n",
            "[CV] END bootstrap=True, max_depth=90, max_features=6, min_samples_leaf=7, min_samples_split=14, n_estimators=100; total time=   0.8s\n",
            "[CV] END bootstrap=True, max_depth=90, max_features=6, min_samples_leaf=7, min_samples_split=14, n_estimators=100; total time=   0.8s\n",
            "[CV] END bootstrap=True, max_depth=90, max_features=6, min_samples_leaf=7, min_samples_split=14, n_estimators=100; total time=   0.8s\n",
            "[CV] END bootstrap=True, max_depth=90, max_features=6, min_samples_leaf=7, min_samples_split=14, n_estimators=100; total time=   0.8s\n",
            "[CV] END bootstrap=True, max_depth=90, max_features=6, min_samples_leaf=7, min_samples_split=14, n_estimators=100; total time=   0.8s\n",
            "[CV] END bootstrap=True, max_depth=90, max_features=6, min_samples_leaf=7, min_samples_split=14, n_estimators=100; total time=   0.8s\n",
            "[CV] END bootstrap=True, max_depth=90, max_features=6, min_samples_leaf=7, min_samples_split=14, n_estimators=100; total time=   0.8s\n",
            "[CV] END bootstrap=True, max_depth=90, max_features=6, min_samples_leaf=4, min_samples_split=10, n_estimators=311; total time=   2.7s\n",
            "[CV] END bootstrap=True, max_depth=90, max_features=6, min_samples_leaf=4, min_samples_split=10, n_estimators=311; total time=   2.7s\n",
            "[CV] END bootstrap=True, max_depth=90, max_features=6, min_samples_leaf=4, min_samples_split=10, n_estimators=311; total time=   2.7s\n",
            "[CV] END bootstrap=True, max_depth=90, max_features=6, min_samples_leaf=4, min_samples_split=10, n_estimators=311; total time=   2.6s\n",
            "[CV] END bootstrap=True, max_depth=90, max_features=6, min_samples_leaf=4, min_samples_split=10, n_estimators=311; total time=   2.6s\n",
            "[CV] END bootstrap=True, max_depth=90, max_features=6, min_samples_leaf=4, min_samples_split=10, n_estimators=311; total time=   2.6s\n",
            "[CV] END bootstrap=True, max_depth=90, max_features=6, min_samples_leaf=4, min_samples_split=10, n_estimators=311; total time=   2.7s\n",
            "[CV] END bootstrap=True, max_depth=90, max_features=6, min_samples_leaf=4, min_samples_split=10, n_estimators=311; total time=   2.7s\n",
            "[CV] END bootstrap=True, max_depth=90, max_features=6, min_samples_leaf=4, min_samples_split=10, n_estimators=311; total time=   2.7s\n",
            "[CV] END bootstrap=True, max_depth=90, max_features=6, min_samples_leaf=4, min_samples_split=10, n_estimators=311; total time=   2.7s\n",
            "[CV] END bootstrap=True, max_depth=170, max_features=7, min_samples_leaf=4, min_samples_split=4, n_estimators=944; total time=   9.6s\n",
            "[CV] END bootstrap=True, max_depth=170, max_features=7, min_samples_leaf=4, min_samples_split=4, n_estimators=944; total time=   9.4s\n",
            "[CV] END bootstrap=True, max_depth=170, max_features=7, min_samples_leaf=4, min_samples_split=4, n_estimators=944; total time=   9.4s\n",
            "[CV] END bootstrap=True, max_depth=170, max_features=7, min_samples_leaf=4, min_samples_split=4, n_estimators=944; total time=   9.6s\n",
            "[CV] END bootstrap=True, max_depth=170, max_features=7, min_samples_leaf=4, min_samples_split=4, n_estimators=944; total time=   9.3s\n",
            "[CV] END bootstrap=True, max_depth=170, max_features=7, min_samples_leaf=4, min_samples_split=4, n_estimators=944; total time=   9.4s\n",
            "[CV] END bootstrap=True, max_depth=170, max_features=7, min_samples_leaf=4, min_samples_split=4, n_estimators=944; total time=   9.6s\n",
            "[CV] END bootstrap=True, max_depth=170, max_features=7, min_samples_leaf=4, min_samples_split=4, n_estimators=944; total time=   9.3s\n",
            "[CV] END bootstrap=True, max_depth=170, max_features=7, min_samples_leaf=4, min_samples_split=4, n_estimators=944; total time=   9.3s\n",
            "[CV] END bootstrap=True, max_depth=170, max_features=7, min_samples_leaf=4, min_samples_split=4, n_estimators=944; total time=   9.4s\n",
            "[CV] END bootstrap=True, max_depth=90, max_features=7, min_samples_leaf=7, min_samples_split=10, n_estimators=944; total time=   8.3s\n",
            "[CV] END bootstrap=True, max_depth=90, max_features=7, min_samples_leaf=7, min_samples_split=10, n_estimators=944; total time=   8.5s\n",
            "[CV] END bootstrap=True, max_depth=90, max_features=7, min_samples_leaf=7, min_samples_split=10, n_estimators=944; total time=   8.5s\n",
            "[CV] END bootstrap=True, max_depth=90, max_features=7, min_samples_leaf=7, min_samples_split=10, n_estimators=944; total time=   8.6s\n",
            "[CV] END bootstrap=True, max_depth=90, max_features=7, min_samples_leaf=7, min_samples_split=10, n_estimators=944; total time=   8.6s\n",
            "[CV] END bootstrap=True, max_depth=90, max_features=7, min_samples_leaf=7, min_samples_split=10, n_estimators=944; total time=   8.7s\n",
            "[CV] END bootstrap=True, max_depth=90, max_features=7, min_samples_leaf=7, min_samples_split=10, n_estimators=944; total time=   8.5s\n",
            "[CV] END bootstrap=True, max_depth=90, max_features=7, min_samples_leaf=7, min_samples_split=10, n_estimators=944; total time=   8.6s\n",
            "[CV] END bootstrap=True, max_depth=90, max_features=7, min_samples_leaf=7, min_samples_split=10, n_estimators=944; total time=   8.6s\n",
            "[CV] END bootstrap=True, max_depth=90, max_features=7, min_samples_leaf=7, min_samples_split=10, n_estimators=944; total time=   8.6s\n",
            "[CV] END bootstrap=True, max_depth=110, max_features=5, min_samples_leaf=4, min_samples_split=8, n_estimators=1155; total time=   9.6s\n",
            "[CV] END bootstrap=True, max_depth=110, max_features=5, min_samples_leaf=4, min_samples_split=8, n_estimators=1155; total time=   9.2s\n",
            "[CV] END bootstrap=True, max_depth=110, max_features=5, min_samples_leaf=4, min_samples_split=8, n_estimators=1155; total time=   9.0s\n",
            "[CV] END bootstrap=True, max_depth=110, max_features=5, min_samples_leaf=4, min_samples_split=8, n_estimators=1155; total time=   9.0s\n",
            "[CV] END bootstrap=True, max_depth=110, max_features=5, min_samples_leaf=4, min_samples_split=8, n_estimators=1155; total time=   8.9s\n",
            "[CV] END bootstrap=True, max_depth=110, max_features=5, min_samples_leaf=4, min_samples_split=8, n_estimators=1155; total time=   9.0s\n",
            "[CV] END bootstrap=True, max_depth=110, max_features=5, min_samples_leaf=4, min_samples_split=8, n_estimators=1155; total time=   9.0s\n",
            "[CV] END bootstrap=True, max_depth=110, max_features=5, min_samples_leaf=4, min_samples_split=8, n_estimators=1155; total time=   9.2s\n",
            "[CV] END bootstrap=True, max_depth=110, max_features=5, min_samples_leaf=4, min_samples_split=8, n_estimators=1155; total time=   9.1s\n",
            "[CV] END bootstrap=True, max_depth=110, max_features=5, min_samples_leaf=4, min_samples_split=8, n_estimators=1155; total time=   9.1s\n",
            "[CV] END bootstrap=True, max_depth=10, max_features=5, min_samples_leaf=3, min_samples_split=12, n_estimators=1366; total time=   8.2s\n",
            "[CV] END bootstrap=True, max_depth=10, max_features=5, min_samples_leaf=3, min_samples_split=12, n_estimators=1366; total time=   8.2s\n",
            "[CV] END bootstrap=True, max_depth=10, max_features=5, min_samples_leaf=3, min_samples_split=12, n_estimators=1366; total time=   8.2s\n",
            "[CV] END bootstrap=True, max_depth=10, max_features=5, min_samples_leaf=3, min_samples_split=12, n_estimators=1366; total time=   8.4s\n",
            "[CV] END bootstrap=True, max_depth=10, max_features=5, min_samples_leaf=3, min_samples_split=12, n_estimators=1366; total time=   8.2s\n",
            "[CV] END bootstrap=True, max_depth=10, max_features=5, min_samples_leaf=3, min_samples_split=12, n_estimators=1366; total time=   8.2s\n",
            "[CV] END bootstrap=True, max_depth=10, max_features=5, min_samples_leaf=3, min_samples_split=12, n_estimators=1366; total time=   8.6s\n",
            "[CV] END bootstrap=True, max_depth=10, max_features=5, min_samples_leaf=3, min_samples_split=12, n_estimators=1366; total time=   8.8s\n",
            "[CV] END bootstrap=True, max_depth=10, max_features=5, min_samples_leaf=3, min_samples_split=12, n_estimators=1366; total time=   8.5s\n",
            "[CV] END bootstrap=True, max_depth=10, max_features=5, min_samples_leaf=3, min_samples_split=12, n_estimators=1366; total time=   8.6s\n",
            "[CV] END bootstrap=True, max_depth=90, max_features=4, min_samples_leaf=3, min_samples_split=12, n_estimators=1366; total time=   9.3s\n",
            "[CV] END bootstrap=True, max_depth=90, max_features=4, min_samples_leaf=3, min_samples_split=12, n_estimators=1366; total time=   9.0s\n",
            "[CV] END bootstrap=True, max_depth=90, max_features=4, min_samples_leaf=3, min_samples_split=12, n_estimators=1366; total time=   9.0s\n",
            "[CV] END bootstrap=True, max_depth=90, max_features=4, min_samples_leaf=3, min_samples_split=12, n_estimators=1366; total time=   9.0s\n",
            "[CV] END bootstrap=True, max_depth=90, max_features=4, min_samples_leaf=3, min_samples_split=12, n_estimators=1366; total time=   8.9s\n",
            "[CV] END bootstrap=True, max_depth=90, max_features=4, min_samples_leaf=3, min_samples_split=12, n_estimators=1366; total time=   8.9s\n",
            "[CV] END bootstrap=True, max_depth=90, max_features=4, min_samples_leaf=3, min_samples_split=12, n_estimators=1366; total time=   8.9s\n",
            "[CV] END bootstrap=True, max_depth=90, max_features=4, min_samples_leaf=3, min_samples_split=12, n_estimators=1366; total time=   8.7s\n",
            "[CV] END bootstrap=True, max_depth=90, max_features=4, min_samples_leaf=3, min_samples_split=12, n_estimators=1366; total time=   8.6s\n",
            "[CV] END bootstrap=True, max_depth=90, max_features=4, min_samples_leaf=3, min_samples_split=12, n_estimators=1366; total time=   8.6s\n",
            "[CV] END bootstrap=True, max_depth=90, max_features=7, min_samples_leaf=4, min_samples_split=14, n_estimators=1788; total time=  16.8s\n",
            "[CV] END bootstrap=True, max_depth=90, max_features=7, min_samples_leaf=4, min_samples_split=14, n_estimators=1788; total time=  16.6s\n",
            "[CV] END bootstrap=True, max_depth=90, max_features=7, min_samples_leaf=4, min_samples_split=14, n_estimators=1788; total time=  16.8s\n",
            "[CV] END bootstrap=True, max_depth=90, max_features=7, min_samples_leaf=4, min_samples_split=14, n_estimators=1788; total time=  16.8s\n",
            "[CV] END bootstrap=True, max_depth=90, max_features=7, min_samples_leaf=4, min_samples_split=14, n_estimators=1788; total time=  16.3s\n",
            "[CV] END bootstrap=True, max_depth=90, max_features=7, min_samples_leaf=4, min_samples_split=14, n_estimators=1788; total time=  16.7s\n",
            "[CV] END bootstrap=True, max_depth=90, max_features=7, min_samples_leaf=4, min_samples_split=14, n_estimators=1788; total time=  16.5s\n",
            "[CV] END bootstrap=True, max_depth=90, max_features=7, min_samples_leaf=4, min_samples_split=14, n_estimators=1788; total time=  16.7s\n",
            "[CV] END bootstrap=True, max_depth=90, max_features=7, min_samples_leaf=4, min_samples_split=14, n_estimators=1788; total time=  17.3s\n",
            "[CV] END bootstrap=True, max_depth=90, max_features=7, min_samples_leaf=4, min_samples_split=14, n_estimators=1788; total time=  17.4s\n",
            "[CV] END bootstrap=True, max_depth=170, max_features=7, min_samples_leaf=5, min_samples_split=8, n_estimators=733; total time=   7.0s\n",
            "[CV] END bootstrap=True, max_depth=170, max_features=7, min_samples_leaf=5, min_samples_split=8, n_estimators=733; total time=   7.0s\n",
            "[CV] END bootstrap=True, max_depth=170, max_features=7, min_samples_leaf=5, min_samples_split=8, n_estimators=733; total time=   6.9s\n",
            "[CV] END bootstrap=True, max_depth=170, max_features=7, min_samples_leaf=5, min_samples_split=8, n_estimators=733; total time=   6.8s\n",
            "[CV] END bootstrap=True, max_depth=170, max_features=7, min_samples_leaf=5, min_samples_split=8, n_estimators=733; total time=   6.7s\n",
            "[CV] END bootstrap=True, max_depth=170, max_features=7, min_samples_leaf=5, min_samples_split=8, n_estimators=733; total time=   6.8s\n",
            "[CV] END bootstrap=True, max_depth=170, max_features=7, min_samples_leaf=5, min_samples_split=8, n_estimators=733; total time=   6.9s\n",
            "[CV] END bootstrap=True, max_depth=170, max_features=7, min_samples_leaf=5, min_samples_split=8, n_estimators=733; total time=   6.9s\n",
            "[CV] END bootstrap=True, max_depth=170, max_features=7, min_samples_leaf=5, min_samples_split=8, n_estimators=733; total time=   6.6s\n",
            "[CV] END bootstrap=True, max_depth=170, max_features=7, min_samples_leaf=5, min_samples_split=8, n_estimators=733; total time=   6.6s\n",
            "[CV] END bootstrap=True, max_depth=170, max_features=6, min_samples_leaf=7, min_samples_split=6, n_estimators=311; total time=   2.4s\n",
            "[CV] END bootstrap=True, max_depth=170, max_features=6, min_samples_leaf=7, min_samples_split=6, n_estimators=311; total time=   2.4s\n",
            "[CV] END bootstrap=True, max_depth=170, max_features=6, min_samples_leaf=7, min_samples_split=6, n_estimators=311; total time=   2.4s\n",
            "[CV] END bootstrap=True, max_depth=170, max_features=6, min_samples_leaf=7, min_samples_split=6, n_estimators=311; total time=   2.4s\n",
            "[CV] END bootstrap=True, max_depth=170, max_features=6, min_samples_leaf=7, min_samples_split=6, n_estimators=311; total time=   2.3s\n",
            "[CV] END bootstrap=True, max_depth=170, max_features=6, min_samples_leaf=7, min_samples_split=6, n_estimators=311; total time=   2.3s\n",
            "[CV] END bootstrap=True, max_depth=170, max_features=6, min_samples_leaf=7, min_samples_split=6, n_estimators=311; total time=   2.3s\n",
            "[CV] END bootstrap=True, max_depth=170, max_features=6, min_samples_leaf=7, min_samples_split=6, n_estimators=311; total time=   2.4s\n",
            "[CV] END bootstrap=True, max_depth=170, max_features=6, min_samples_leaf=7, min_samples_split=6, n_estimators=311; total time=   2.4s\n",
            "[CV] END bootstrap=True, max_depth=170, max_features=6, min_samples_leaf=7, min_samples_split=6, n_estimators=311; total time=   2.3s\n",
            "[CV] END bootstrap=True, max_depth=130, max_features=7, min_samples_leaf=2, min_samples_split=12, n_estimators=522; total time=   5.2s\n",
            "[CV] END bootstrap=True, max_depth=130, max_features=7, min_samples_leaf=2, min_samples_split=12, n_estimators=522; total time=   5.2s\n",
            "[CV] END bootstrap=True, max_depth=130, max_features=7, min_samples_leaf=2, min_samples_split=12, n_estimators=522; total time=   5.2s\n",
            "[CV] END bootstrap=True, max_depth=130, max_features=7, min_samples_leaf=2, min_samples_split=12, n_estimators=522; total time=   5.4s\n",
            "[CV] END bootstrap=True, max_depth=130, max_features=7, min_samples_leaf=2, min_samples_split=12, n_estimators=522; total time=   5.2s\n",
            "[CV] END bootstrap=True, max_depth=130, max_features=7, min_samples_leaf=2, min_samples_split=12, n_estimators=522; total time=   5.2s\n",
            "[CV] END bootstrap=True, max_depth=130, max_features=7, min_samples_leaf=2, min_samples_split=12, n_estimators=522; total time=   5.1s\n",
            "[CV] END bootstrap=True, max_depth=130, max_features=7, min_samples_leaf=2, min_samples_split=12, n_estimators=522; total time=   5.2s\n",
            "[CV] END bootstrap=True, max_depth=130, max_features=7, min_samples_leaf=2, min_samples_split=12, n_estimators=522; total time=   5.1s\n",
            "[CV] END bootstrap=True, max_depth=130, max_features=7, min_samples_leaf=2, min_samples_split=12, n_estimators=522; total time=   5.1s\n",
            "[CV] END bootstrap=True, max_depth=30, max_features=4, min_samples_leaf=6, min_samples_split=4, n_estimators=1155; total time=   6.8s\n",
            "[CV] END bootstrap=True, max_depth=30, max_features=4, min_samples_leaf=6, min_samples_split=4, n_estimators=1155; total time=   6.7s\n",
            "[CV] END bootstrap=True, max_depth=30, max_features=4, min_samples_leaf=6, min_samples_split=4, n_estimators=1155; total time=   6.8s\n",
            "[CV] END bootstrap=True, max_depth=30, max_features=4, min_samples_leaf=6, min_samples_split=4, n_estimators=1155; total time=   6.9s\n",
            "[CV] END bootstrap=True, max_depth=30, max_features=4, min_samples_leaf=6, min_samples_split=4, n_estimators=1155; total time=   6.9s\n",
            "[CV] END bootstrap=True, max_depth=30, max_features=4, min_samples_leaf=6, min_samples_split=4, n_estimators=1155; total time=   6.6s\n",
            "[CV] END bootstrap=True, max_depth=30, max_features=4, min_samples_leaf=6, min_samples_split=4, n_estimators=1155; total time=   6.6s\n",
            "[CV] END bootstrap=True, max_depth=30, max_features=4, min_samples_leaf=6, min_samples_split=4, n_estimators=1155; total time=   6.8s\n",
            "[CV] END bootstrap=True, max_depth=30, max_features=4, min_samples_leaf=6, min_samples_split=4, n_estimators=1155; total time=   6.9s\n",
            "[CV] END bootstrap=True, max_depth=30, max_features=4, min_samples_leaf=6, min_samples_split=4, n_estimators=1155; total time=   6.8s\n",
            "[CV] END bootstrap=True, max_depth=10, max_features=6, min_samples_leaf=2, min_samples_split=12, n_estimators=2000; total time=  13.7s\n",
            "[CV] END bootstrap=True, max_depth=10, max_features=6, min_samples_leaf=2, min_samples_split=12, n_estimators=2000; total time=  13.8s\n",
            "[CV] END bootstrap=True, max_depth=10, max_features=6, min_samples_leaf=2, min_samples_split=12, n_estimators=2000; total time=  13.6s\n",
            "[CV] END bootstrap=True, max_depth=10, max_features=6, min_samples_leaf=2, min_samples_split=12, n_estimators=2000; total time=  13.6s\n",
            "[CV] END bootstrap=True, max_depth=10, max_features=6, min_samples_leaf=2, min_samples_split=12, n_estimators=2000; total time=  13.5s\n",
            "[CV] END bootstrap=True, max_depth=10, max_features=6, min_samples_leaf=2, min_samples_split=12, n_estimators=2000; total time=  13.6s\n",
            "[CV] END bootstrap=True, max_depth=10, max_features=6, min_samples_leaf=2, min_samples_split=12, n_estimators=2000; total time=  13.5s\n",
            "[CV] END bootstrap=True, max_depth=10, max_features=6, min_samples_leaf=2, min_samples_split=12, n_estimators=2000; total time=  13.5s\n",
            "[CV] END bootstrap=True, max_depth=10, max_features=6, min_samples_leaf=2, min_samples_split=12, n_estimators=2000; total time=  13.5s\n",
            "[CV] END bootstrap=True, max_depth=10, max_features=6, min_samples_leaf=2, min_samples_split=12, n_estimators=2000; total time=  13.3s\n",
            "[CV] END bootstrap=True, max_depth=170, max_features=5, min_samples_leaf=4, min_samples_split=8, n_estimators=733; total time=   5.4s\n",
            "[CV] END bootstrap=True, max_depth=170, max_features=5, min_samples_leaf=4, min_samples_split=8, n_estimators=733; total time=   5.3s\n",
            "[CV] END bootstrap=True, max_depth=170, max_features=5, min_samples_leaf=4, min_samples_split=8, n_estimators=733; total time=   5.3s\n",
            "[CV] END bootstrap=True, max_depth=170, max_features=5, min_samples_leaf=4, min_samples_split=8, n_estimators=733; total time=   5.4s\n",
            "[CV] END bootstrap=True, max_depth=170, max_features=5, min_samples_leaf=4, min_samples_split=8, n_estimators=733; total time=   5.3s\n",
            "[CV] END bootstrap=True, max_depth=170, max_features=5, min_samples_leaf=4, min_samples_split=8, n_estimators=733; total time=   5.3s\n",
            "[CV] END bootstrap=True, max_depth=170, max_features=5, min_samples_leaf=4, min_samples_split=8, n_estimators=733; total time=   5.3s\n",
            "[CV] END bootstrap=True, max_depth=170, max_features=5, min_samples_leaf=4, min_samples_split=8, n_estimators=733; total time=   5.3s\n",
            "[CV] END bootstrap=True, max_depth=170, max_features=5, min_samples_leaf=4, min_samples_split=8, n_estimators=733; total time=   5.3s\n",
            "[CV] END bootstrap=True, max_depth=170, max_features=5, min_samples_leaf=4, min_samples_split=8, n_estimators=733; total time=   5.3s\n",
            "[CV] END bootstrap=True, max_depth=110, max_features=7, min_samples_leaf=3, min_samples_split=12, n_estimators=2000; total time=  19.1s\n",
            "[CV] END bootstrap=True, max_depth=110, max_features=7, min_samples_leaf=3, min_samples_split=12, n_estimators=2000; total time=  19.1s\n",
            "[CV] END bootstrap=True, max_depth=110, max_features=7, min_samples_leaf=3, min_samples_split=12, n_estimators=2000; total time=  19.0s\n",
            "[CV] END bootstrap=True, max_depth=110, max_features=7, min_samples_leaf=3, min_samples_split=12, n_estimators=2000; total time=  19.2s\n",
            "[CV] END bootstrap=True, max_depth=110, max_features=7, min_samples_leaf=3, min_samples_split=12, n_estimators=2000; total time=  18.9s\n",
            "[CV] END bootstrap=True, max_depth=110, max_features=7, min_samples_leaf=3, min_samples_split=12, n_estimators=2000; total time=  19.1s\n",
            "[CV] END bootstrap=True, max_depth=110, max_features=7, min_samples_leaf=3, min_samples_split=12, n_estimators=2000; total time=  18.8s\n",
            "[CV] END bootstrap=True, max_depth=110, max_features=7, min_samples_leaf=3, min_samples_split=12, n_estimators=2000; total time=  18.8s\n",
            "[CV] END bootstrap=True, max_depth=110, max_features=7, min_samples_leaf=3, min_samples_split=12, n_estimators=2000; total time=  18.7s\n",
            "[CV] END bootstrap=True, max_depth=110, max_features=7, min_samples_leaf=3, min_samples_split=12, n_estimators=2000; total time=  18.7s\n",
            "[CV] END bootstrap=True, max_depth=30, max_features=6, min_samples_leaf=6, min_samples_split=10, n_estimators=733; total time=   5.8s\n",
            "[CV] END bootstrap=True, max_depth=30, max_features=6, min_samples_leaf=6, min_samples_split=10, n_estimators=733; total time=   5.7s\n",
            "[CV] END bootstrap=True, max_depth=30, max_features=6, min_samples_leaf=6, min_samples_split=10, n_estimators=733; total time=   5.6s\n",
            "[CV] END bootstrap=True, max_depth=30, max_features=6, min_samples_leaf=6, min_samples_split=10, n_estimators=733; total time=   5.7s\n",
            "[CV] END bootstrap=True, max_depth=30, max_features=6, min_samples_leaf=6, min_samples_split=10, n_estimators=733; total time=   5.7s\n",
            "[CV] END bootstrap=True, max_depth=30, max_features=6, min_samples_leaf=6, min_samples_split=10, n_estimators=733; total time=   5.8s\n",
            "[CV] END bootstrap=True, max_depth=30, max_features=6, min_samples_leaf=6, min_samples_split=10, n_estimators=733; total time=   5.6s\n",
            "[CV] END bootstrap=True, max_depth=30, max_features=6, min_samples_leaf=6, min_samples_split=10, n_estimators=733; total time=   5.6s\n",
            "[CV] END bootstrap=True, max_depth=30, max_features=6, min_samples_leaf=6, min_samples_split=10, n_estimators=733; total time=   6.1s\n",
            "[CV] END bootstrap=True, max_depth=30, max_features=6, min_samples_leaf=6, min_samples_split=10, n_estimators=733; total time=   6.4s\n",
            "[CV] END bootstrap=True, max_depth=90, max_features=6, min_samples_leaf=6, min_samples_split=10, n_estimators=311; total time=   2.4s\n",
            "[CV] END bootstrap=True, max_depth=90, max_features=6, min_samples_leaf=6, min_samples_split=10, n_estimators=311; total time=   2.4s\n",
            "[CV] END bootstrap=True, max_depth=90, max_features=6, min_samples_leaf=6, min_samples_split=10, n_estimators=311; total time=   2.4s\n",
            "[CV] END bootstrap=True, max_depth=90, max_features=6, min_samples_leaf=6, min_samples_split=10, n_estimators=311; total time=   2.4s\n",
            "[CV] END bootstrap=True, max_depth=90, max_features=6, min_samples_leaf=6, min_samples_split=10, n_estimators=311; total time=   2.4s\n",
            "[CV] END bootstrap=True, max_depth=90, max_features=6, min_samples_leaf=6, min_samples_split=10, n_estimators=311; total time=   2.4s\n",
            "[CV] END bootstrap=True, max_depth=90, max_features=6, min_samples_leaf=6, min_samples_split=10, n_estimators=311; total time=   2.4s\n",
            "[CV] END bootstrap=True, max_depth=90, max_features=6, min_samples_leaf=6, min_samples_split=10, n_estimators=311; total time=   2.4s\n",
            "[CV] END bootstrap=True, max_depth=90, max_features=6, min_samples_leaf=6, min_samples_split=10, n_estimators=311; total time=   2.4s\n",
            "[CV] END bootstrap=True, max_depth=90, max_features=6, min_samples_leaf=6, min_samples_split=10, n_estimators=311; total time=   2.4s\n",
            "[CV] END bootstrap=True, max_depth=90, max_features=6, min_samples_leaf=2, min_samples_split=6, n_estimators=311; total time=   2.9s\n",
            "[CV] END bootstrap=True, max_depth=90, max_features=6, min_samples_leaf=2, min_samples_split=6, n_estimators=311; total time=   2.9s\n",
            "[CV] END bootstrap=True, max_depth=90, max_features=6, min_samples_leaf=2, min_samples_split=6, n_estimators=311; total time=   2.9s\n",
            "[CV] END bootstrap=True, max_depth=90, max_features=6, min_samples_leaf=2, min_samples_split=6, n_estimators=311; total time=   2.9s\n",
            "[CV] END bootstrap=True, max_depth=90, max_features=6, min_samples_leaf=2, min_samples_split=6, n_estimators=311; total time=   2.9s\n",
            "[CV] END bootstrap=True, max_depth=90, max_features=6, min_samples_leaf=2, min_samples_split=6, n_estimators=311; total time=   2.9s\n",
            "[CV] END bootstrap=True, max_depth=90, max_features=6, min_samples_leaf=2, min_samples_split=6, n_estimators=311; total time=   2.9s\n",
            "[CV] END bootstrap=True, max_depth=90, max_features=6, min_samples_leaf=2, min_samples_split=6, n_estimators=311; total time=   2.9s\n",
            "[CV] END bootstrap=True, max_depth=90, max_features=6, min_samples_leaf=2, min_samples_split=6, n_estimators=311; total time=   2.8s\n",
            "[CV] END bootstrap=True, max_depth=90, max_features=6, min_samples_leaf=2, min_samples_split=6, n_estimators=311; total time=   2.8s\n",
            "[CV] END bootstrap=True, max_depth=110, max_features=5, min_samples_leaf=7, min_samples_split=4, n_estimators=100; total time=   0.7s\n",
            "[CV] END bootstrap=True, max_depth=110, max_features=5, min_samples_leaf=7, min_samples_split=4, n_estimators=100; total time=   0.7s\n",
            "[CV] END bootstrap=True, max_depth=110, max_features=5, min_samples_leaf=7, min_samples_split=4, n_estimators=100; total time=   0.7s\n",
            "[CV] END bootstrap=True, max_depth=110, max_features=5, min_samples_leaf=7, min_samples_split=4, n_estimators=100; total time=   0.7s\n",
            "[CV] END bootstrap=True, max_depth=110, max_features=5, min_samples_leaf=7, min_samples_split=4, n_estimators=100; total time=   0.7s\n",
            "[CV] END bootstrap=True, max_depth=110, max_features=5, min_samples_leaf=7, min_samples_split=4, n_estimators=100; total time=   0.7s\n",
            "[CV] END bootstrap=True, max_depth=110, max_features=5, min_samples_leaf=7, min_samples_split=4, n_estimators=100; total time=   0.7s\n",
            "[CV] END bootstrap=True, max_depth=110, max_features=5, min_samples_leaf=7, min_samples_split=4, n_estimators=100; total time=   0.7s\n",
            "[CV] END bootstrap=True, max_depth=110, max_features=5, min_samples_leaf=7, min_samples_split=4, n_estimators=100; total time=   0.7s\n",
            "[CV] END bootstrap=True, max_depth=110, max_features=5, min_samples_leaf=7, min_samples_split=4, n_estimators=100; total time=   0.7s\n",
            "[CV] END bootstrap=True, max_depth=10, max_features=7, min_samples_leaf=3, min_samples_split=12, n_estimators=944; total time=   7.3s\n",
            "[CV] END bootstrap=True, max_depth=10, max_features=7, min_samples_leaf=3, min_samples_split=12, n_estimators=944; total time=   7.3s\n",
            "[CV] END bootstrap=True, max_depth=10, max_features=7, min_samples_leaf=3, min_samples_split=12, n_estimators=944; total time=   7.3s\n",
            "[CV] END bootstrap=True, max_depth=10, max_features=7, min_samples_leaf=3, min_samples_split=12, n_estimators=944; total time=   7.2s\n",
            "[CV] END bootstrap=True, max_depth=10, max_features=7, min_samples_leaf=3, min_samples_split=12, n_estimators=944; total time=   7.2s\n",
            "[CV] END bootstrap=True, max_depth=10, max_features=7, min_samples_leaf=3, min_samples_split=12, n_estimators=944; total time=   7.2s\n",
            "[CV] END bootstrap=True, max_depth=10, max_features=7, min_samples_leaf=3, min_samples_split=12, n_estimators=944; total time=   7.1s\n",
            "[CV] END bootstrap=True, max_depth=10, max_features=7, min_samples_leaf=3, min_samples_split=12, n_estimators=944; total time=   7.2s\n",
            "[CV] END bootstrap=True, max_depth=10, max_features=7, min_samples_leaf=3, min_samples_split=12, n_estimators=944; total time=   7.3s\n",
            "[CV] END bootstrap=True, max_depth=10, max_features=7, min_samples_leaf=3, min_samples_split=12, n_estimators=944; total time=   7.1s\n",
            "[CV] END bootstrap=True, max_depth=90, max_features=4, min_samples_leaf=5, min_samples_split=14, n_estimators=1155; total time=   6.9s\n",
            "[CV] END bootstrap=True, max_depth=90, max_features=4, min_samples_leaf=5, min_samples_split=14, n_estimators=1155; total time=   6.9s\n",
            "[CV] END bootstrap=True, max_depth=90, max_features=4, min_samples_leaf=5, min_samples_split=14, n_estimators=1155; total time=   6.8s\n",
            "[CV] END bootstrap=True, max_depth=90, max_features=4, min_samples_leaf=5, min_samples_split=14, n_estimators=1155; total time=   6.8s\n",
            "[CV] END bootstrap=True, max_depth=90, max_features=4, min_samples_leaf=5, min_samples_split=14, n_estimators=1155; total time=   6.7s\n",
            "[CV] END bootstrap=True, max_depth=90, max_features=4, min_samples_leaf=5, min_samples_split=14, n_estimators=1155; total time=   6.7s\n",
            "[CV] END bootstrap=True, max_depth=90, max_features=4, min_samples_leaf=5, min_samples_split=14, n_estimators=1155; total time=   6.8s\n",
            "[CV] END bootstrap=True, max_depth=90, max_features=4, min_samples_leaf=5, min_samples_split=14, n_estimators=1155; total time=   6.8s\n",
            "[CV] END bootstrap=True, max_depth=90, max_features=4, min_samples_leaf=5, min_samples_split=14, n_estimators=1155; total time=   6.8s\n",
            "[CV] END bootstrap=True, max_depth=90, max_features=4, min_samples_leaf=5, min_samples_split=14, n_estimators=1155; total time=   6.8s\n",
            "[CV] END bootstrap=True, max_depth=60, max_features=5, min_samples_leaf=4, min_samples_split=8, n_estimators=1155; total time=   8.7s\n",
            "[CV] END bootstrap=True, max_depth=60, max_features=5, min_samples_leaf=4, min_samples_split=8, n_estimators=1155; total time=   8.5s\n",
            "[CV] END bootstrap=True, max_depth=60, max_features=5, min_samples_leaf=4, min_samples_split=8, n_estimators=1155; total time=   8.5s\n",
            "[CV] END bootstrap=True, max_depth=60, max_features=5, min_samples_leaf=4, min_samples_split=8, n_estimators=1155; total time=   8.5s\n",
            "[CV] END bootstrap=True, max_depth=60, max_features=5, min_samples_leaf=4, min_samples_split=8, n_estimators=1155; total time=   8.4s\n",
            "[CV] END bootstrap=True, max_depth=60, max_features=5, min_samples_leaf=4, min_samples_split=8, n_estimators=1155; total time=   8.5s\n",
            "[CV] END bootstrap=True, max_depth=60, max_features=5, min_samples_leaf=4, min_samples_split=8, n_estimators=1155; total time=   8.4s\n",
            "[CV] END bootstrap=True, max_depth=60, max_features=5, min_samples_leaf=4, min_samples_split=8, n_estimators=1155; total time=   8.4s\n",
            "[CV] END bootstrap=True, max_depth=60, max_features=5, min_samples_leaf=4, min_samples_split=8, n_estimators=1155; total time=   8.4s\n",
            "[CV] END bootstrap=True, max_depth=60, max_features=5, min_samples_leaf=4, min_samples_split=8, n_estimators=1155; total time=   8.4s\n",
            "[CV] END bootstrap=True, max_depth=110, max_features=5, min_samples_leaf=6, min_samples_split=10, n_estimators=1366; total time=   9.3s\n",
            "[CV] END bootstrap=True, max_depth=110, max_features=5, min_samples_leaf=6, min_samples_split=10, n_estimators=1366; total time=   9.3s\n",
            "[CV] END bootstrap=True, max_depth=110, max_features=5, min_samples_leaf=6, min_samples_split=10, n_estimators=1366; total time=   9.2s\n",
            "[CV] END bootstrap=True, max_depth=110, max_features=5, min_samples_leaf=6, min_samples_split=10, n_estimators=1366; total time=   9.3s\n",
            "[CV] END bootstrap=True, max_depth=110, max_features=5, min_samples_leaf=6, min_samples_split=10, n_estimators=1366; total time=   9.3s\n",
            "[CV] END bootstrap=True, max_depth=110, max_features=5, min_samples_leaf=6, min_samples_split=10, n_estimators=1366; total time=   9.4s\n",
            "[CV] END bootstrap=True, max_depth=110, max_features=5, min_samples_leaf=6, min_samples_split=10, n_estimators=1366; total time=   9.2s\n",
            "[CV] END bootstrap=True, max_depth=110, max_features=5, min_samples_leaf=6, min_samples_split=10, n_estimators=1366; total time=   9.3s\n",
            "[CV] END bootstrap=True, max_depth=110, max_features=5, min_samples_leaf=6, min_samples_split=10, n_estimators=1366; total time=   9.3s\n",
            "[CV] END bootstrap=True, max_depth=110, max_features=5, min_samples_leaf=6, min_samples_split=10, n_estimators=1366; total time=   9.2s\n",
            "[CV] END bootstrap=True, max_depth=170, max_features=6, min_samples_leaf=6, min_samples_split=14, n_estimators=1366; total time=  10.5s\n",
            "[CV] END bootstrap=True, max_depth=170, max_features=6, min_samples_leaf=6, min_samples_split=14, n_estimators=1366; total time=  10.6s\n",
            "[CV] END bootstrap=True, max_depth=170, max_features=6, min_samples_leaf=6, min_samples_split=14, n_estimators=1366; total time=  10.6s\n",
            "[CV] END bootstrap=True, max_depth=170, max_features=6, min_samples_leaf=6, min_samples_split=14, n_estimators=1366; total time=  10.6s\n",
            "[CV] END bootstrap=True, max_depth=170, max_features=6, min_samples_leaf=6, min_samples_split=14, n_estimators=1366; total time=  10.6s\n",
            "[CV] END bootstrap=True, max_depth=170, max_features=6, min_samples_leaf=6, min_samples_split=14, n_estimators=1366; total time=  10.6s\n",
            "[CV] END bootstrap=True, max_depth=170, max_features=6, min_samples_leaf=6, min_samples_split=14, n_estimators=1366; total time=  10.5s\n",
            "[CV] END bootstrap=True, max_depth=170, max_features=6, min_samples_leaf=6, min_samples_split=14, n_estimators=1366; total time=  10.7s\n",
            "[CV] END bootstrap=True, max_depth=170, max_features=6, min_samples_leaf=6, min_samples_split=14, n_estimators=1366; total time=  10.6s\n",
            "[CV] END bootstrap=True, max_depth=170, max_features=6, min_samples_leaf=6, min_samples_split=14, n_estimators=1366; total time=  10.8s\n",
            "[CV] END bootstrap=True, max_depth=150, max_features=4, min_samples_leaf=2, min_samples_split=8, n_estimators=1366; total time=   9.6s\n",
            "[CV] END bootstrap=True, max_depth=150, max_features=4, min_samples_leaf=2, min_samples_split=8, n_estimators=1366; total time=   9.5s\n",
            "[CV] END bootstrap=True, max_depth=150, max_features=4, min_samples_leaf=2, min_samples_split=8, n_estimators=1366; total time=   9.4s\n",
            "[CV] END bootstrap=True, max_depth=150, max_features=4, min_samples_leaf=2, min_samples_split=8, n_estimators=1366; total time=   9.5s\n",
            "[CV] END bootstrap=True, max_depth=150, max_features=4, min_samples_leaf=2, min_samples_split=8, n_estimators=1366; total time=   9.1s\n",
            "[CV] END bootstrap=True, max_depth=150, max_features=4, min_samples_leaf=2, min_samples_split=8, n_estimators=1366; total time=   9.2s\n",
            "[CV] END bootstrap=True, max_depth=150, max_features=4, min_samples_leaf=2, min_samples_split=8, n_estimators=1366; total time=   9.2s\n",
            "[CV] END bootstrap=True, max_depth=150, max_features=4, min_samples_leaf=2, min_samples_split=8, n_estimators=1366; total time=   9.2s\n",
            "[CV] END bootstrap=True, max_depth=150, max_features=4, min_samples_leaf=2, min_samples_split=8, n_estimators=1366; total time=   9.1s\n",
            "[CV] END bootstrap=True, max_depth=150, max_features=4, min_samples_leaf=2, min_samples_split=8, n_estimators=1366; total time=   9.1s\n",
            "[CV] END bootstrap=True, max_depth=150, max_features=5, min_samples_leaf=6, min_samples_split=10, n_estimators=944; total time=   6.5s\n",
            "[CV] END bootstrap=True, max_depth=150, max_features=5, min_samples_leaf=6, min_samples_split=10, n_estimators=944; total time=   6.4s\n",
            "[CV] END bootstrap=True, max_depth=150, max_features=5, min_samples_leaf=6, min_samples_split=10, n_estimators=944; total time=   6.4s\n",
            "[CV] END bootstrap=True, max_depth=150, max_features=5, min_samples_leaf=6, min_samples_split=10, n_estimators=944; total time=   6.5s\n",
            "[CV] END bootstrap=True, max_depth=150, max_features=5, min_samples_leaf=6, min_samples_split=10, n_estimators=944; total time=   6.5s\n",
            "[CV] END bootstrap=True, max_depth=150, max_features=5, min_samples_leaf=6, min_samples_split=10, n_estimators=944; total time=   6.4s\n",
            "[CV] END bootstrap=True, max_depth=150, max_features=5, min_samples_leaf=6, min_samples_split=10, n_estimators=944; total time=   6.4s\n",
            "[CV] END bootstrap=True, max_depth=150, max_features=5, min_samples_leaf=6, min_samples_split=10, n_estimators=944; total time=   6.4s\n",
            "[CV] END bootstrap=True, max_depth=150, max_features=5, min_samples_leaf=6, min_samples_split=10, n_estimators=944; total time=   6.4s\n",
            "[CV] END bootstrap=True, max_depth=150, max_features=5, min_samples_leaf=6, min_samples_split=10, n_estimators=944; total time=   6.4s\n",
            "[CV] END bootstrap=True, max_depth=30, max_features=7, min_samples_leaf=2, min_samples_split=10, n_estimators=1788; total time=  18.3s\n",
            "[CV] END bootstrap=True, max_depth=30, max_features=7, min_samples_leaf=2, min_samples_split=10, n_estimators=1788; total time=  18.3s\n",
            "[CV] END bootstrap=True, max_depth=30, max_features=7, min_samples_leaf=2, min_samples_split=10, n_estimators=1788; total time=  19.1s\n",
            "[CV] END bootstrap=True, max_depth=30, max_features=7, min_samples_leaf=2, min_samples_split=10, n_estimators=1788; total time=  18.0s\n",
            "[CV] END bootstrap=True, max_depth=30, max_features=7, min_samples_leaf=2, min_samples_split=10, n_estimators=1788; total time=  17.9s\n",
            "[CV] END bootstrap=True, max_depth=30, max_features=7, min_samples_leaf=2, min_samples_split=10, n_estimators=1788; total time=  18.1s\n",
            "[CV] END bootstrap=True, max_depth=30, max_features=7, min_samples_leaf=2, min_samples_split=10, n_estimators=1788; total time=  17.9s\n",
            "[CV] END bootstrap=True, max_depth=30, max_features=7, min_samples_leaf=2, min_samples_split=10, n_estimators=1788; total time=  18.4s\n",
            "[CV] END bootstrap=True, max_depth=30, max_features=7, min_samples_leaf=2, min_samples_split=10, n_estimators=1788; total time=  18.3s\n",
            "[CV] END bootstrap=True, max_depth=30, max_features=7, min_samples_leaf=2, min_samples_split=10, n_estimators=1788; total time=  18.1s\n",
            "[CV] END bootstrap=True, max_depth=130, max_features=5, min_samples_leaf=6, min_samples_split=12, n_estimators=2000; total time=  14.0s\n",
            "[CV] END bootstrap=True, max_depth=130, max_features=5, min_samples_leaf=6, min_samples_split=12, n_estimators=2000; total time=  14.1s\n",
            "[CV] END bootstrap=True, max_depth=130, max_features=5, min_samples_leaf=6, min_samples_split=12, n_estimators=2000; total time=  13.8s\n",
            "[CV] END bootstrap=True, max_depth=130, max_features=5, min_samples_leaf=6, min_samples_split=12, n_estimators=2000; total time=  14.0s\n",
            "[CV] END bootstrap=True, max_depth=130, max_features=5, min_samples_leaf=6, min_samples_split=12, n_estimators=2000; total time=  13.6s\n",
            "[CV] END bootstrap=True, max_depth=130, max_features=5, min_samples_leaf=6, min_samples_split=12, n_estimators=2000; total time=  13.8s\n",
            "[CV] END bootstrap=True, max_depth=130, max_features=5, min_samples_leaf=6, min_samples_split=12, n_estimators=2000; total time=  13.7s\n",
            "[CV] END bootstrap=True, max_depth=130, max_features=5, min_samples_leaf=6, min_samples_split=12, n_estimators=2000; total time=  13.9s\n",
            "[CV] END bootstrap=True, max_depth=130, max_features=5, min_samples_leaf=6, min_samples_split=12, n_estimators=2000; total time=  13.8s\n",
            "[CV] END bootstrap=True, max_depth=130, max_features=5, min_samples_leaf=6, min_samples_split=12, n_estimators=2000; total time=  14.1s\n",
            "[CV] END bootstrap=True, max_depth=30, max_features=5, min_samples_leaf=6, min_samples_split=4, n_estimators=1577; total time=  11.2s\n",
            "[CV] END bootstrap=True, max_depth=30, max_features=5, min_samples_leaf=6, min_samples_split=4, n_estimators=1577; total time=  11.3s\n",
            "[CV] END bootstrap=True, max_depth=30, max_features=5, min_samples_leaf=6, min_samples_split=4, n_estimators=1577; total time=  11.0s\n",
            "[CV] END bootstrap=True, max_depth=30, max_features=5, min_samples_leaf=6, min_samples_split=4, n_estimators=1577; total time=  10.9s\n",
            "[CV] END bootstrap=True, max_depth=30, max_features=5, min_samples_leaf=6, min_samples_split=4, n_estimators=1577; total time=  10.8s\n",
            "[CV] END bootstrap=True, max_depth=30, max_features=5, min_samples_leaf=6, min_samples_split=4, n_estimators=1577; total time=  11.1s\n",
            "[CV] END bootstrap=True, max_depth=30, max_features=5, min_samples_leaf=6, min_samples_split=4, n_estimators=1577; total time=  10.9s\n",
            "[CV] END bootstrap=True, max_depth=30, max_features=5, min_samples_leaf=6, min_samples_split=4, n_estimators=1577; total time=  11.0s\n",
            "[CV] END bootstrap=True, max_depth=30, max_features=5, min_samples_leaf=6, min_samples_split=4, n_estimators=1577; total time=  11.0s\n",
            "[CV] END bootstrap=True, max_depth=30, max_features=5, min_samples_leaf=6, min_samples_split=4, n_estimators=1577; total time=  10.8s\n",
            "[CV] END bootstrap=True, max_depth=30, max_features=7, min_samples_leaf=5, min_samples_split=12, n_estimators=1577; total time=  14.6s\n",
            "[CV] END bootstrap=True, max_depth=30, max_features=7, min_samples_leaf=5, min_samples_split=12, n_estimators=1577; total time=  14.6s\n",
            "[CV] END bootstrap=True, max_depth=30, max_features=7, min_samples_leaf=5, min_samples_split=12, n_estimators=1577; total time=  14.7s\n",
            "[CV] END bootstrap=True, max_depth=30, max_features=7, min_samples_leaf=5, min_samples_split=12, n_estimators=1577; total time=  14.7s\n",
            "[CV] END bootstrap=True, max_depth=30, max_features=7, min_samples_leaf=5, min_samples_split=12, n_estimators=1577; total time=  14.7s\n",
            "[CV] END bootstrap=True, max_depth=30, max_features=7, min_samples_leaf=5, min_samples_split=12, n_estimators=1577; total time=  14.9s\n",
            "[CV] END bootstrap=True, max_depth=30, max_features=7, min_samples_leaf=5, min_samples_split=12, n_estimators=1577; total time=  14.4s\n",
            "[CV] END bootstrap=True, max_depth=30, max_features=7, min_samples_leaf=5, min_samples_split=12, n_estimators=1577; total time=  14.3s\n",
            "[CV] END bootstrap=True, max_depth=30, max_features=7, min_samples_leaf=5, min_samples_split=12, n_estimators=1577; total time=  14.5s\n",
            "[CV] END bootstrap=True, max_depth=30, max_features=7, min_samples_leaf=5, min_samples_split=12, n_estimators=1577; total time=  14.3s\n",
            "[CV] END bootstrap=True, max_depth=150, max_features=5, min_samples_leaf=4, min_samples_split=12, n_estimators=1577; total time=  11.6s\n",
            "[CV] END bootstrap=True, max_depth=150, max_features=5, min_samples_leaf=4, min_samples_split=12, n_estimators=1577; total time=  11.6s\n",
            "[CV] END bootstrap=True, max_depth=150, max_features=5, min_samples_leaf=4, min_samples_split=12, n_estimators=1577; total time=  11.3s\n",
            "[CV] END bootstrap=True, max_depth=150, max_features=5, min_samples_leaf=4, min_samples_split=12, n_estimators=1577; total time=  11.7s\n",
            "[CV] END bootstrap=True, max_depth=150, max_features=5, min_samples_leaf=4, min_samples_split=12, n_estimators=1577; total time=  11.4s\n",
            "[CV] END bootstrap=True, max_depth=150, max_features=5, min_samples_leaf=4, min_samples_split=12, n_estimators=1577; total time=  11.3s\n",
            "[CV] END bootstrap=True, max_depth=150, max_features=5, min_samples_leaf=4, min_samples_split=12, n_estimators=1577; total time=  11.2s\n",
            "[CV] END bootstrap=True, max_depth=150, max_features=5, min_samples_leaf=4, min_samples_split=12, n_estimators=1577; total time=  12.4s\n",
            "[CV] END bootstrap=True, max_depth=150, max_features=5, min_samples_leaf=4, min_samples_split=12, n_estimators=1577; total time=  11.4s\n",
            "[CV] END bootstrap=True, max_depth=150, max_features=5, min_samples_leaf=4, min_samples_split=12, n_estimators=1577; total time=  11.5s\n",
            "[CV] END bootstrap=True, max_depth=150, max_features=7, min_samples_leaf=6, min_samples_split=10, n_estimators=1788; total time=  16.2s\n",
            "[CV] END bootstrap=True, max_depth=150, max_features=7, min_samples_leaf=6, min_samples_split=10, n_estimators=1788; total time=  16.0s\n",
            "[CV] END bootstrap=True, max_depth=150, max_features=7, min_samples_leaf=6, min_samples_split=10, n_estimators=1788; total time=  16.0s\n",
            "[CV] END bootstrap=True, max_depth=150, max_features=7, min_samples_leaf=6, min_samples_split=10, n_estimators=1788; total time=  16.1s\n",
            "[CV] END bootstrap=True, max_depth=150, max_features=7, min_samples_leaf=6, min_samples_split=10, n_estimators=1788; total time=  15.9s\n",
            "[CV] END bootstrap=True, max_depth=150, max_features=7, min_samples_leaf=6, min_samples_split=10, n_estimators=1788; total time=  16.0s\n",
            "[CV] END bootstrap=True, max_depth=150, max_features=7, min_samples_leaf=6, min_samples_split=10, n_estimators=1788; total time=  15.7s\n",
            "[CV] END bootstrap=True, max_depth=150, max_features=7, min_samples_leaf=6, min_samples_split=10, n_estimators=1788; total time=  15.7s\n",
            "[CV] END bootstrap=True, max_depth=150, max_features=7, min_samples_leaf=6, min_samples_split=10, n_estimators=1788; total time=  15.8s\n",
            "[CV] END bootstrap=True, max_depth=150, max_features=7, min_samples_leaf=6, min_samples_split=10, n_estimators=1788; total time=  15.7s\n",
            "[CV] END bootstrap=True, max_depth=10, max_features=4, min_samples_leaf=5, min_samples_split=4, n_estimators=2000; total time=  10.4s\n",
            "[CV] END bootstrap=True, max_depth=10, max_features=4, min_samples_leaf=5, min_samples_split=4, n_estimators=2000; total time=  10.3s\n",
            "[CV] END bootstrap=True, max_depth=10, max_features=4, min_samples_leaf=5, min_samples_split=4, n_estimators=2000; total time=  10.1s\n",
            "[CV] END bootstrap=True, max_depth=10, max_features=4, min_samples_leaf=5, min_samples_split=4, n_estimators=2000; total time=  10.2s\n",
            "[CV] END bootstrap=True, max_depth=10, max_features=4, min_samples_leaf=5, min_samples_split=4, n_estimators=2000; total time=  10.4s\n",
            "[CV] END bootstrap=True, max_depth=10, max_features=4, min_samples_leaf=5, min_samples_split=4, n_estimators=2000; total time=  10.4s\n",
            "[CV] END bootstrap=True, max_depth=10, max_features=4, min_samples_leaf=5, min_samples_split=4, n_estimators=2000; total time=  10.2s\n",
            "[CV] END bootstrap=True, max_depth=10, max_features=4, min_samples_leaf=5, min_samples_split=4, n_estimators=2000; total time=  10.2s\n",
            "[CV] END bootstrap=True, max_depth=10, max_features=4, min_samples_leaf=5, min_samples_split=4, n_estimators=2000; total time=  10.2s\n",
            "[CV] END bootstrap=True, max_depth=10, max_features=4, min_samples_leaf=5, min_samples_split=4, n_estimators=2000; total time=  10.3s\n",
            "[CV] END bootstrap=True, max_depth=30, max_features=7, min_samples_leaf=5, min_samples_split=10, n_estimators=944; total time=   8.8s\n",
            "[CV] END bootstrap=True, max_depth=30, max_features=7, min_samples_leaf=5, min_samples_split=10, n_estimators=944; total time=   8.8s\n",
            "[CV] END bootstrap=True, max_depth=30, max_features=7, min_samples_leaf=5, min_samples_split=10, n_estimators=944; total time=   8.8s\n",
            "[CV] END bootstrap=True, max_depth=30, max_features=7, min_samples_leaf=5, min_samples_split=10, n_estimators=944; total time=   8.8s\n",
            "[CV] END bootstrap=True, max_depth=30, max_features=7, min_samples_leaf=5, min_samples_split=10, n_estimators=944; total time=  11.0s\n",
            "[CV] END bootstrap=True, max_depth=30, max_features=7, min_samples_leaf=5, min_samples_split=10, n_estimators=944; total time=  11.9s\n",
            "[CV] END bootstrap=True, max_depth=30, max_features=7, min_samples_leaf=5, min_samples_split=10, n_estimators=944; total time=  10.1s\n",
            "[CV] END bootstrap=True, max_depth=30, max_features=7, min_samples_leaf=5, min_samples_split=10, n_estimators=944; total time=   8.6s\n",
            "[CV] END bootstrap=True, max_depth=30, max_features=7, min_samples_leaf=5, min_samples_split=10, n_estimators=944; total time=   8.6s\n",
            "[CV] END bootstrap=True, max_depth=30, max_features=7, min_samples_leaf=5, min_samples_split=10, n_estimators=944; total time=   8.5s\n",
            "[CV] END bootstrap=True, max_depth=60, max_features=4, min_samples_leaf=4, min_samples_split=4, n_estimators=1155; total time=   7.3s\n",
            "[CV] END bootstrap=True, max_depth=60, max_features=4, min_samples_leaf=4, min_samples_split=4, n_estimators=1155; total time=   7.3s\n",
            "[CV] END bootstrap=True, max_depth=60, max_features=4, min_samples_leaf=4, min_samples_split=4, n_estimators=1155; total time=   7.2s\n",
            "[CV] END bootstrap=True, max_depth=60, max_features=4, min_samples_leaf=4, min_samples_split=4, n_estimators=1155; total time=   7.3s\n",
            "[CV] END bootstrap=True, max_depth=60, max_features=4, min_samples_leaf=4, min_samples_split=4, n_estimators=1155; total time=   7.2s\n",
            "[CV] END bootstrap=True, max_depth=60, max_features=4, min_samples_leaf=4, min_samples_split=4, n_estimators=1155; total time=   7.4s\n",
            "[CV] END bootstrap=True, max_depth=60, max_features=4, min_samples_leaf=4, min_samples_split=4, n_estimators=1155; total time=   7.3s\n",
            "[CV] END bootstrap=True, max_depth=60, max_features=4, min_samples_leaf=4, min_samples_split=4, n_estimators=1155; total time=   7.4s\n",
            "[CV] END bootstrap=True, max_depth=60, max_features=4, min_samples_leaf=4, min_samples_split=4, n_estimators=1155; total time=   7.2s\n",
            "[CV] END bootstrap=True, max_depth=60, max_features=4, min_samples_leaf=4, min_samples_split=4, n_estimators=1155; total time=   7.2s\n",
            "[CV] END bootstrap=True, max_depth=90, max_features=4, min_samples_leaf=7, min_samples_split=10, n_estimators=1788; total time=  10.2s\n",
            "[CV] END bootstrap=True, max_depth=90, max_features=4, min_samples_leaf=7, min_samples_split=10, n_estimators=1788; total time=  10.2s\n",
            "[CV] END bootstrap=True, max_depth=90, max_features=4, min_samples_leaf=7, min_samples_split=10, n_estimators=1788; total time=  10.2s\n",
            "[CV] END bootstrap=True, max_depth=90, max_features=4, min_samples_leaf=7, min_samples_split=10, n_estimators=1788; total time=  10.4s\n",
            "[CV] END bootstrap=True, max_depth=90, max_features=4, min_samples_leaf=7, min_samples_split=10, n_estimators=1788; total time=  10.2s\n",
            "[CV] END bootstrap=True, max_depth=90, max_features=4, min_samples_leaf=7, min_samples_split=10, n_estimators=1788; total time=  10.3s\n",
            "[CV] END bootstrap=True, max_depth=90, max_features=4, min_samples_leaf=7, min_samples_split=10, n_estimators=1788; total time=  10.3s\n",
            "[CV] END bootstrap=True, max_depth=90, max_features=4, min_samples_leaf=7, min_samples_split=10, n_estimators=1788; total time=  10.2s\n",
            "[CV] END bootstrap=True, max_depth=90, max_features=4, min_samples_leaf=7, min_samples_split=10, n_estimators=1788; total time=  10.4s\n",
            "[CV] END bootstrap=True, max_depth=90, max_features=4, min_samples_leaf=7, min_samples_split=10, n_estimators=1788; total time=  10.3s\n",
            "[CV] END bootstrap=True, max_depth=30, max_features=5, min_samples_leaf=3, min_samples_split=10, n_estimators=2000; total time=  15.1s\n",
            "[CV] END bootstrap=True, max_depth=30, max_features=5, min_samples_leaf=3, min_samples_split=10, n_estimators=2000; total time=  15.2s\n",
            "[CV] END bootstrap=True, max_depth=30, max_features=5, min_samples_leaf=3, min_samples_split=10, n_estimators=2000; total time=  15.8s\n",
            "[CV] END bootstrap=True, max_depth=30, max_features=5, min_samples_leaf=3, min_samples_split=10, n_estimators=2000; total time=  16.4s\n",
            "[CV] END bootstrap=True, max_depth=30, max_features=5, min_samples_leaf=3, min_samples_split=10, n_estimators=2000; total time=  14.9s\n",
            "[CV] END bootstrap=True, max_depth=30, max_features=5, min_samples_leaf=3, min_samples_split=10, n_estimators=2000; total time=  15.0s\n",
            "[CV] END bootstrap=True, max_depth=30, max_features=5, min_samples_leaf=3, min_samples_split=10, n_estimators=2000; total time=  15.1s\n",
            "[CV] END bootstrap=True, max_depth=30, max_features=5, min_samples_leaf=3, min_samples_split=10, n_estimators=2000; total time=  15.3s\n",
            "[CV] END bootstrap=True, max_depth=30, max_features=5, min_samples_leaf=3, min_samples_split=10, n_estimators=2000; total time=  15.0s\n",
            "[CV] END bootstrap=True, max_depth=30, max_features=5, min_samples_leaf=3, min_samples_split=10, n_estimators=2000; total time=  15.2s\n",
            "[CV] END bootstrap=True, max_depth=130, max_features=5, min_samples_leaf=4, min_samples_split=14, n_estimators=944; total time=   6.9s\n",
            "[CV] END bootstrap=True, max_depth=130, max_features=5, min_samples_leaf=4, min_samples_split=14, n_estimators=944; total time=   7.0s\n",
            "[CV] END bootstrap=True, max_depth=130, max_features=5, min_samples_leaf=4, min_samples_split=14, n_estimators=944; total time=   7.2s\n",
            "[CV] END bootstrap=True, max_depth=130, max_features=5, min_samples_leaf=4, min_samples_split=14, n_estimators=944; total time=   7.2s\n",
            "[CV] END bootstrap=True, max_depth=130, max_features=5, min_samples_leaf=4, min_samples_split=14, n_estimators=944; total time=   7.0s\n",
            "[CV] END bootstrap=True, max_depth=130, max_features=5, min_samples_leaf=4, min_samples_split=14, n_estimators=944; total time=   6.9s\n",
            "[CV] END bootstrap=True, max_depth=130, max_features=5, min_samples_leaf=4, min_samples_split=14, n_estimators=944; total time=   7.0s\n",
            "[CV] END bootstrap=True, max_depth=130, max_features=5, min_samples_leaf=4, min_samples_split=14, n_estimators=944; total time=   6.9s\n",
            "[CV] END bootstrap=True, max_depth=130, max_features=5, min_samples_leaf=4, min_samples_split=14, n_estimators=944; total time=   6.9s\n",
            "[CV] END bootstrap=True, max_depth=130, max_features=5, min_samples_leaf=4, min_samples_split=14, n_estimators=944; total time=   6.8s\n",
            "[CV] END bootstrap=True, max_depth=10, max_features=7, min_samples_leaf=5, min_samples_split=4, n_estimators=1577; total time=  12.2s\n",
            "[CV] END bootstrap=True, max_depth=10, max_features=7, min_samples_leaf=5, min_samples_split=4, n_estimators=1577; total time=  12.2s\n",
            "[CV] END bootstrap=True, max_depth=10, max_features=7, min_samples_leaf=5, min_samples_split=4, n_estimators=1577; total time=  12.1s\n",
            "[CV] END bootstrap=True, max_depth=10, max_features=7, min_samples_leaf=5, min_samples_split=4, n_estimators=1577; total time=  12.1s\n",
            "[CV] END bootstrap=True, max_depth=10, max_features=7, min_samples_leaf=5, min_samples_split=4, n_estimators=1577; total time=  12.3s\n",
            "[CV] END bootstrap=True, max_depth=10, max_features=7, min_samples_leaf=5, min_samples_split=4, n_estimators=1577; total time=  12.3s\n",
            "[CV] END bootstrap=True, max_depth=10, max_features=7, min_samples_leaf=5, min_samples_split=4, n_estimators=1577; total time=  12.2s\n",
            "[CV] END bootstrap=True, max_depth=10, max_features=7, min_samples_leaf=5, min_samples_split=4, n_estimators=1577; total time=  12.2s\n",
            "[CV] END bootstrap=True, max_depth=10, max_features=7, min_samples_leaf=5, min_samples_split=4, n_estimators=1577; total time=  12.3s\n",
            "[CV] END bootstrap=True, max_depth=10, max_features=7, min_samples_leaf=5, min_samples_split=4, n_estimators=1577; total time=  12.2s\n",
            "[CV] END bootstrap=True, max_depth=30, max_features=4, min_samples_leaf=3, min_samples_split=8, n_estimators=1788; total time=  12.2s\n",
            "[CV] END bootstrap=True, max_depth=30, max_features=4, min_samples_leaf=3, min_samples_split=8, n_estimators=1788; total time=  11.9s\n",
            "[CV] END bootstrap=True, max_depth=30, max_features=4, min_samples_leaf=3, min_samples_split=8, n_estimators=1788; total time=  11.8s\n",
            "[CV] END bootstrap=True, max_depth=30, max_features=4, min_samples_leaf=3, min_samples_split=8, n_estimators=1788; total time=  12.0s\n",
            "[CV] END bootstrap=True, max_depth=30, max_features=4, min_samples_leaf=3, min_samples_split=8, n_estimators=1788; total time=  11.8s\n",
            "[CV] END bootstrap=True, max_depth=30, max_features=4, min_samples_leaf=3, min_samples_split=8, n_estimators=1788; total time=  12.0s\n",
            "[CV] END bootstrap=True, max_depth=30, max_features=4, min_samples_leaf=3, min_samples_split=8, n_estimators=1788; total time=  11.9s\n",
            "[CV] END bootstrap=True, max_depth=30, max_features=4, min_samples_leaf=3, min_samples_split=8, n_estimators=1788; total time=  12.0s\n",
            "[CV] END bootstrap=True, max_depth=30, max_features=4, min_samples_leaf=3, min_samples_split=8, n_estimators=1788; total time=  12.3s\n",
            "[CV] END bootstrap=True, max_depth=30, max_features=4, min_samples_leaf=3, min_samples_split=8, n_estimators=1788; total time=  12.1s\n",
            "[CV] END bootstrap=True, max_depth=170, max_features=7, min_samples_leaf=5, min_samples_split=14, n_estimators=944; total time=   8.9s\n",
            "[CV] END bootstrap=True, max_depth=170, max_features=7, min_samples_leaf=5, min_samples_split=14, n_estimators=944; total time=   9.0s\n",
            "[CV] END bootstrap=True, max_depth=170, max_features=7, min_samples_leaf=5, min_samples_split=14, n_estimators=944; total time=   8.8s\n",
            "[CV] END bootstrap=True, max_depth=170, max_features=7, min_samples_leaf=5, min_samples_split=14, n_estimators=944; total time=   8.7s\n",
            "[CV] END bootstrap=True, max_depth=170, max_features=7, min_samples_leaf=5, min_samples_split=14, n_estimators=944; total time=   8.6s\n",
            "[CV] END bootstrap=True, max_depth=170, max_features=7, min_samples_leaf=5, min_samples_split=14, n_estimators=944; total time=   8.7s\n",
            "[CV] END bootstrap=True, max_depth=170, max_features=7, min_samples_leaf=5, min_samples_split=14, n_estimators=944; total time=   8.5s\n",
            "[CV] END bootstrap=True, max_depth=170, max_features=7, min_samples_leaf=5, min_samples_split=14, n_estimators=944; total time=   8.7s\n",
            "[CV] END bootstrap=True, max_depth=170, max_features=7, min_samples_leaf=5, min_samples_split=14, n_estimators=944; total time=   8.7s\n",
            "[CV] END bootstrap=True, max_depth=170, max_features=7, min_samples_leaf=5, min_samples_split=14, n_estimators=944; total time=   8.5s\n",
            "[CV] END bootstrap=True, max_depth=60, max_features=5, min_samples_leaf=7, min_samples_split=6, n_estimators=1366; total time=   9.5s\n",
            "[CV] END bootstrap=True, max_depth=60, max_features=5, min_samples_leaf=7, min_samples_split=6, n_estimators=1366; total time=   9.4s\n",
            "[CV] END bootstrap=True, max_depth=60, max_features=5, min_samples_leaf=7, min_samples_split=6, n_estimators=1366; total time=   9.5s\n",
            "[CV] END bootstrap=True, max_depth=60, max_features=5, min_samples_leaf=7, min_samples_split=6, n_estimators=1366; total time=   9.5s\n",
            "[CV] END bootstrap=True, max_depth=60, max_features=5, min_samples_leaf=7, min_samples_split=6, n_estimators=1366; total time=   9.5s\n",
            "[CV] END bootstrap=True, max_depth=60, max_features=5, min_samples_leaf=7, min_samples_split=6, n_estimators=1366; total time=   9.5s\n",
            "[CV] END bootstrap=True, max_depth=60, max_features=5, min_samples_leaf=7, min_samples_split=6, n_estimators=1366; total time=   9.4s\n",
            "[CV] END bootstrap=True, max_depth=60, max_features=5, min_samples_leaf=7, min_samples_split=6, n_estimators=1366; total time=   9.3s\n",
            "[CV] END bootstrap=True, max_depth=60, max_features=5, min_samples_leaf=7, min_samples_split=6, n_estimators=1366; total time=   9.3s\n",
            "[CV] END bootstrap=True, max_depth=60, max_features=5, min_samples_leaf=7, min_samples_split=6, n_estimators=1366; total time=   9.4s\n",
            "[CV] END bootstrap=True, max_depth=60, max_features=6, min_samples_leaf=6, min_samples_split=14, n_estimators=100; total time=   0.8s\n",
            "[CV] END bootstrap=True, max_depth=60, max_features=6, min_samples_leaf=6, min_samples_split=14, n_estimators=100; total time=   0.8s\n",
            "[CV] END bootstrap=True, max_depth=60, max_features=6, min_samples_leaf=6, min_samples_split=14, n_estimators=100; total time=   0.8s\n",
            "[CV] END bootstrap=True, max_depth=60, max_features=6, min_samples_leaf=6, min_samples_split=14, n_estimators=100; total time=   0.8s\n",
            "[CV] END bootstrap=True, max_depth=60, max_features=6, min_samples_leaf=6, min_samples_split=14, n_estimators=100; total time=   0.8s\n",
            "[CV] END bootstrap=True, max_depth=60, max_features=6, min_samples_leaf=6, min_samples_split=14, n_estimators=100; total time=   0.8s\n",
            "[CV] END bootstrap=True, max_depth=60, max_features=6, min_samples_leaf=6, min_samples_split=14, n_estimators=100; total time=   0.8s\n",
            "[CV] END bootstrap=True, max_depth=60, max_features=6, min_samples_leaf=6, min_samples_split=14, n_estimators=100; total time=   0.9s\n",
            "[CV] END bootstrap=True, max_depth=60, max_features=6, min_samples_leaf=6, min_samples_split=14, n_estimators=100; total time=   0.9s\n",
            "[CV] END bootstrap=True, max_depth=60, max_features=6, min_samples_leaf=6, min_samples_split=14, n_estimators=100; total time=   0.9s\n",
            "[CV] END bootstrap=True, max_depth=150, max_features=4, min_samples_leaf=5, min_samples_split=6, n_estimators=1788; total time=  12.4s\n",
            "[CV] END bootstrap=True, max_depth=150, max_features=4, min_samples_leaf=5, min_samples_split=6, n_estimators=1788; total time=  11.2s\n",
            "[CV] END bootstrap=True, max_depth=150, max_features=4, min_samples_leaf=5, min_samples_split=6, n_estimators=1788; total time=  11.2s\n",
            "[CV] END bootstrap=True, max_depth=150, max_features=4, min_samples_leaf=5, min_samples_split=6, n_estimators=1788; total time=  11.3s\n",
            "[CV] END bootstrap=True, max_depth=150, max_features=4, min_samples_leaf=5, min_samples_split=6, n_estimators=1788; total time=  11.0s\n",
            "[CV] END bootstrap=True, max_depth=150, max_features=4, min_samples_leaf=5, min_samples_split=6, n_estimators=1788; total time=  11.6s\n",
            "[CV] END bootstrap=True, max_depth=150, max_features=4, min_samples_leaf=5, min_samples_split=6, n_estimators=1788; total time=  11.0s\n",
            "[CV] END bootstrap=True, max_depth=150, max_features=4, min_samples_leaf=5, min_samples_split=6, n_estimators=1788; total time=  11.0s\n",
            "[CV] END bootstrap=True, max_depth=150, max_features=4, min_samples_leaf=5, min_samples_split=6, n_estimators=1788; total time=  10.8s\n",
            "[CV] END bootstrap=True, max_depth=150, max_features=4, min_samples_leaf=5, min_samples_split=6, n_estimators=1788; total time=  10.7s\n",
            "[CV] END bootstrap=True, max_depth=170, max_features=6, min_samples_leaf=6, min_samples_split=12, n_estimators=100; total time=   0.8s\n",
            "[CV] END bootstrap=True, max_depth=170, max_features=6, min_samples_leaf=6, min_samples_split=12, n_estimators=100; total time=   0.8s\n",
            "[CV] END bootstrap=True, max_depth=170, max_features=6, min_samples_leaf=6, min_samples_split=12, n_estimators=100; total time=   0.8s\n",
            "[CV] END bootstrap=True, max_depth=170, max_features=6, min_samples_leaf=6, min_samples_split=12, n_estimators=100; total time=   0.8s\n",
            "[CV] END bootstrap=True, max_depth=170, max_features=6, min_samples_leaf=6, min_samples_split=12, n_estimators=100; total time=   0.8s\n",
            "[CV] END bootstrap=True, max_depth=170, max_features=6, min_samples_leaf=6, min_samples_split=12, n_estimators=100; total time=   0.8s\n",
            "[CV] END bootstrap=True, max_depth=170, max_features=6, min_samples_leaf=6, min_samples_split=12, n_estimators=100; total time=   0.8s\n",
            "[CV] END bootstrap=True, max_depth=170, max_features=6, min_samples_leaf=6, min_samples_split=12, n_estimators=100; total time=   0.8s\n",
            "[CV] END bootstrap=True, max_depth=170, max_features=6, min_samples_leaf=6, min_samples_split=12, n_estimators=100; total time=   0.8s\n",
            "[CV] END bootstrap=True, max_depth=170, max_features=6, min_samples_leaf=6, min_samples_split=12, n_estimators=100; total time=   0.8s\n",
            "[CV] END bootstrap=True, max_depth=90, max_features=6, min_samples_leaf=7, min_samples_split=14, n_estimators=733; total time=   5.7s\n",
            "[CV] END bootstrap=True, max_depth=90, max_features=6, min_samples_leaf=7, min_samples_split=14, n_estimators=733; total time=   5.7s\n",
            "[CV] END bootstrap=True, max_depth=90, max_features=6, min_samples_leaf=7, min_samples_split=14, n_estimators=733; total time=   5.6s\n",
            "[CV] END bootstrap=True, max_depth=90, max_features=6, min_samples_leaf=7, min_samples_split=14, n_estimators=733; total time=   5.7s\n",
            "[CV] END bootstrap=True, max_depth=90, max_features=6, min_samples_leaf=7, min_samples_split=14, n_estimators=733; total time=   5.6s\n",
            "[CV] END bootstrap=True, max_depth=90, max_features=6, min_samples_leaf=7, min_samples_split=14, n_estimators=733; total time=   5.5s\n",
            "[CV] END bootstrap=True, max_depth=90, max_features=6, min_samples_leaf=7, min_samples_split=14, n_estimators=733; total time=   5.5s\n",
            "[CV] END bootstrap=True, max_depth=90, max_features=6, min_samples_leaf=7, min_samples_split=14, n_estimators=733; total time=   5.5s\n",
            "[CV] END bootstrap=True, max_depth=90, max_features=6, min_samples_leaf=7, min_samples_split=14, n_estimators=733; total time=   5.5s\n",
            "[CV] END bootstrap=True, max_depth=90, max_features=6, min_samples_leaf=7, min_samples_split=14, n_estimators=733; total time=   5.5s\n",
            "[CV] END bootstrap=True, max_depth=170, max_features=5, min_samples_leaf=5, min_samples_split=4, n_estimators=1577; total time=  11.3s\n",
            "[CV] END bootstrap=True, max_depth=170, max_features=5, min_samples_leaf=5, min_samples_split=4, n_estimators=1577; total time=  11.2s\n",
            "[CV] END bootstrap=True, max_depth=170, max_features=5, min_samples_leaf=5, min_samples_split=4, n_estimators=1577; total time=  11.2s\n",
            "[CV] END bootstrap=True, max_depth=170, max_features=5, min_samples_leaf=5, min_samples_split=4, n_estimators=1577; total time=  11.3s\n",
            "[CV] END bootstrap=True, max_depth=170, max_features=5, min_samples_leaf=5, min_samples_split=4, n_estimators=1577; total time=  11.2s\n",
            "[CV] END bootstrap=True, max_depth=170, max_features=5, min_samples_leaf=5, min_samples_split=4, n_estimators=1577; total time=  11.2s\n",
            "[CV] END bootstrap=True, max_depth=170, max_features=5, min_samples_leaf=5, min_samples_split=4, n_estimators=1577; total time=  11.1s\n",
            "[CV] END bootstrap=True, max_depth=170, max_features=5, min_samples_leaf=5, min_samples_split=4, n_estimators=1577; total time=  11.3s\n",
            "[CV] END bootstrap=True, max_depth=170, max_features=5, min_samples_leaf=5, min_samples_split=4, n_estimators=1577; total time=  11.7s\n",
            "[CV] END bootstrap=True, max_depth=170, max_features=5, min_samples_leaf=5, min_samples_split=4, n_estimators=1577; total time=  11.5s\n",
            "[CV] END bootstrap=True, max_depth=150, max_features=4, min_samples_leaf=4, min_samples_split=10, n_estimators=522; total time=   3.4s\n",
            "[CV] END bootstrap=True, max_depth=150, max_features=4, min_samples_leaf=4, min_samples_split=10, n_estimators=522; total time=   3.4s\n",
            "[CV] END bootstrap=True, max_depth=150, max_features=4, min_samples_leaf=4, min_samples_split=10, n_estimators=522; total time=   3.4s\n",
            "[CV] END bootstrap=True, max_depth=150, max_features=4, min_samples_leaf=4, min_samples_split=10, n_estimators=522; total time=   3.4s\n",
            "[CV] END bootstrap=True, max_depth=150, max_features=4, min_samples_leaf=4, min_samples_split=10, n_estimators=522; total time=   3.3s\n",
            "[CV] END bootstrap=True, max_depth=150, max_features=4, min_samples_leaf=4, min_samples_split=10, n_estimators=522; total time=   3.3s\n",
            "[CV] END bootstrap=True, max_depth=150, max_features=4, min_samples_leaf=4, min_samples_split=10, n_estimators=522; total time=   3.3s\n",
            "[CV] END bootstrap=True, max_depth=150, max_features=4, min_samples_leaf=4, min_samples_split=10, n_estimators=522; total time=   3.3s\n",
            "[CV] END bootstrap=True, max_depth=150, max_features=4, min_samples_leaf=4, min_samples_split=10, n_estimators=522; total time=   3.3s\n",
            "[CV] END bootstrap=True, max_depth=150, max_features=4, min_samples_leaf=4, min_samples_split=10, n_estimators=522; total time=   3.4s\n"
          ]
        },
        {
          "output_type": "execute_result",
          "data": {
            "text/plain": [
              "RandomizedSearchCV(cv=10, estimator=RandomForestRegressor(), n_iter=50,\n",
              "                   param_distributions={'bootstrap': [True],\n",
              "                                        'max_depth': [10, 30, 60, 90, 110, 130,\n",
              "                                                      150, 170],\n",
              "                                        'max_features': [4, 5, 6, 7],\n",
              "                                        'min_samples_leaf': [2, 3, 4, 5, 6, 7],\n",
              "                                        'min_samples_split': [4, 6, 8, 10, 12,\n",
              "                                                              14],\n",
              "                                        'n_estimators': [100, 311, 522, 733,\n",
              "                                                         944, 1155, 1366, 1577,\n",
              "                                                         1788, 2000]},\n",
              "                   random_state=42, verbose=2)"
            ]
          },
          "metadata": {},
          "execution_count": 168
        }
      ]
    },
    {
      "cell_type": "markdown",
      "source": [
        "Print the best parameters"
      ],
      "metadata": {
        "id": "BUB9Vp1rqcsr"
      }
    },
    {
      "cell_type": "code",
      "source": [
        "rf_random.best_params_"
      ],
      "metadata": {
        "colab": {
          "base_uri": "https://localhost:8080/"
        },
        "id": "KDZr1R-s_tQC",
        "outputId": "7c15dbf3-1a4e-4967-a1ff-b1e8f840f4c9"
      },
      "execution_count": 169,
      "outputs": [
        {
          "output_type": "execute_result",
          "data": {
            "text/plain": [
              "{'bootstrap': True,\n",
              " 'max_depth': 90,\n",
              " 'max_features': 4,\n",
              " 'min_samples_leaf': 7,\n",
              " 'min_samples_split': 10,\n",
              " 'n_estimators': 1788}"
            ]
          },
          "metadata": {},
          "execution_count": 169
        }
      ]
    },
    {
      "cell_type": "markdown",
      "source": [
        "Get an idea of the skill of the best model from the random search (prints coefficient of determination)."
      ],
      "metadata": {
        "id": "BlqBd-7hqpr0"
      }
    },
    {
      "cell_type": "code",
      "source": [
        "best_random = rf_random.best_estimator_\n",
        "best_random.score(X_test,y_test)"
      ],
      "metadata": {
        "colab": {
          "base_uri": "https://localhost:8080/"
        },
        "id": "HWbh7QsP_5C6",
        "outputId": "492dc374-17bb-4af9-850a-82e9f32ef34f"
      },
      "execution_count": 182,
      "outputs": [
        {
          "output_type": "execute_result",
          "data": {
            "text/plain": [
              "0.22475436141700178"
            ]
          },
          "metadata": {},
          "execution_count": 182
        }
      ]
    },
    {
      "cell_type": "markdown",
      "source": [
        "Refine the search with an iteration over a specified grid of parameters"
      ],
      "metadata": {
        "id": "3S3FvWPrqvpp"
      }
    },
    {
      "cell_type": "code",
      "source": [
        "param_grid = {\n",
        "    'max_depth': [85, 90, 95],\n",
        "    'max_features': [3, 4],\n",
        "    'min_samples_leaf': [7, 8, 9],\n",
        "    'min_samples_split': [10, 11],\n",
        "    'n_estimators': [1800],\n",
        "    'bootstrap': [True]\n",
        "}\n",
        "# Create a new instance\n",
        "rf1 = RandomForestRegressor()\n",
        "# Instantiate the grid search model and fit\n",
        "grid_search = GridSearchCV(estimator = rf1, param_grid = param_grid, \n",
        "                          cv = 5, verbose = 2)\n",
        "grid_search.fit(X_train, y_train)"
      ],
      "metadata": {
        "colab": {
          "base_uri": "https://localhost:8080/"
        },
        "id": "6bTsIhHvAsNv",
        "outputId": "08e83acf-13c2-4e58-9041-aaadd695f864"
      },
      "execution_count": 179,
      "outputs": [
        {
          "output_type": "stream",
          "name": "stdout",
          "text": [
            "Fitting 5 folds for each of 36 candidates, totalling 180 fits\n",
            "[CV] END bootstrap=True, max_depth=85, max_features=3, min_samples_leaf=7, min_samples_split=10, n_estimators=1800; total time=   7.7s\n",
            "[CV] END bootstrap=True, max_depth=85, max_features=3, min_samples_leaf=7, min_samples_split=10, n_estimators=1800; total time=   7.7s\n",
            "[CV] END bootstrap=True, max_depth=85, max_features=3, min_samples_leaf=7, min_samples_split=10, n_estimators=1800; total time=   7.6s\n",
            "[CV] END bootstrap=True, max_depth=85, max_features=3, min_samples_leaf=7, min_samples_split=10, n_estimators=1800; total time=   7.7s\n",
            "[CV] END bootstrap=True, max_depth=85, max_features=3, min_samples_leaf=7, min_samples_split=10, n_estimators=1800; total time=   7.8s\n",
            "[CV] END bootstrap=True, max_depth=85, max_features=3, min_samples_leaf=7, min_samples_split=11, n_estimators=1800; total time=   7.8s\n",
            "[CV] END bootstrap=True, max_depth=85, max_features=3, min_samples_leaf=7, min_samples_split=11, n_estimators=1800; total time=   7.7s\n",
            "[CV] END bootstrap=True, max_depth=85, max_features=3, min_samples_leaf=7, min_samples_split=11, n_estimators=1800; total time=   7.6s\n",
            "[CV] END bootstrap=True, max_depth=85, max_features=3, min_samples_leaf=7, min_samples_split=11, n_estimators=1800; total time=   7.7s\n",
            "[CV] END bootstrap=True, max_depth=85, max_features=3, min_samples_leaf=7, min_samples_split=11, n_estimators=1800; total time=   7.6s\n",
            "[CV] END bootstrap=True, max_depth=85, max_features=3, min_samples_leaf=8, min_samples_split=10, n_estimators=1800; total time=   7.5s\n",
            "[CV] END bootstrap=True, max_depth=85, max_features=3, min_samples_leaf=8, min_samples_split=10, n_estimators=1800; total time=   7.6s\n",
            "[CV] END bootstrap=True, max_depth=85, max_features=3, min_samples_leaf=8, min_samples_split=10, n_estimators=1800; total time=   7.5s\n",
            "[CV] END bootstrap=True, max_depth=85, max_features=3, min_samples_leaf=8, min_samples_split=10, n_estimators=1800; total time=   7.7s\n",
            "[CV] END bootstrap=True, max_depth=85, max_features=3, min_samples_leaf=8, min_samples_split=10, n_estimators=1800; total time=   7.6s\n",
            "[CV] END bootstrap=True, max_depth=85, max_features=3, min_samples_leaf=8, min_samples_split=11, n_estimators=1800; total time=   7.5s\n",
            "[CV] END bootstrap=True, max_depth=85, max_features=3, min_samples_leaf=8, min_samples_split=11, n_estimators=1800; total time=   7.6s\n",
            "[CV] END bootstrap=True, max_depth=85, max_features=3, min_samples_leaf=8, min_samples_split=11, n_estimators=1800; total time=   7.4s\n",
            "[CV] END bootstrap=True, max_depth=85, max_features=3, min_samples_leaf=8, min_samples_split=11, n_estimators=1800; total time=   7.5s\n",
            "[CV] END bootstrap=True, max_depth=85, max_features=3, min_samples_leaf=8, min_samples_split=11, n_estimators=1800; total time=   7.4s\n",
            "[CV] END bootstrap=True, max_depth=85, max_features=3, min_samples_leaf=9, min_samples_split=10, n_estimators=1800; total time=   7.4s\n",
            "[CV] END bootstrap=True, max_depth=85, max_features=3, min_samples_leaf=9, min_samples_split=10, n_estimators=1800; total time=   7.5s\n",
            "[CV] END bootstrap=True, max_depth=85, max_features=3, min_samples_leaf=9, min_samples_split=10, n_estimators=1800; total time=   7.3s\n",
            "[CV] END bootstrap=True, max_depth=85, max_features=3, min_samples_leaf=9, min_samples_split=10, n_estimators=1800; total time=   7.6s\n",
            "[CV] END bootstrap=True, max_depth=85, max_features=3, min_samples_leaf=9, min_samples_split=10, n_estimators=1800; total time=   7.5s\n",
            "[CV] END bootstrap=True, max_depth=85, max_features=3, min_samples_leaf=9, min_samples_split=11, n_estimators=1800; total time=   7.4s\n",
            "[CV] END bootstrap=True, max_depth=85, max_features=3, min_samples_leaf=9, min_samples_split=11, n_estimators=1800; total time=   7.5s\n",
            "[CV] END bootstrap=True, max_depth=85, max_features=3, min_samples_leaf=9, min_samples_split=11, n_estimators=1800; total time=   7.3s\n",
            "[CV] END bootstrap=True, max_depth=85, max_features=3, min_samples_leaf=9, min_samples_split=11, n_estimators=1800; total time=   7.4s\n",
            "[CV] END bootstrap=True, max_depth=85, max_features=3, min_samples_leaf=9, min_samples_split=11, n_estimators=1800; total time=   7.4s\n",
            "[CV] END bootstrap=True, max_depth=85, max_features=4, min_samples_leaf=7, min_samples_split=10, n_estimators=1800; total time=   9.3s\n",
            "[CV] END bootstrap=True, max_depth=85, max_features=4, min_samples_leaf=7, min_samples_split=10, n_estimators=1800; total time=   9.3s\n",
            "[CV] END bootstrap=True, max_depth=85, max_features=4, min_samples_leaf=7, min_samples_split=10, n_estimators=1800; total time=   9.1s\n",
            "[CV] END bootstrap=True, max_depth=85, max_features=4, min_samples_leaf=7, min_samples_split=10, n_estimators=1800; total time=   9.2s\n",
            "[CV] END bootstrap=True, max_depth=85, max_features=4, min_samples_leaf=7, min_samples_split=10, n_estimators=1800; total time=   9.3s\n",
            "[CV] END bootstrap=True, max_depth=85, max_features=4, min_samples_leaf=7, min_samples_split=11, n_estimators=1800; total time=   9.3s\n",
            "[CV] END bootstrap=True, max_depth=85, max_features=4, min_samples_leaf=7, min_samples_split=11, n_estimators=1800; total time=   9.3s\n",
            "[CV] END bootstrap=True, max_depth=85, max_features=4, min_samples_leaf=7, min_samples_split=11, n_estimators=1800; total time=   9.2s\n",
            "[CV] END bootstrap=True, max_depth=85, max_features=4, min_samples_leaf=7, min_samples_split=11, n_estimators=1800; total time=   9.2s\n",
            "[CV] END bootstrap=True, max_depth=85, max_features=4, min_samples_leaf=7, min_samples_split=11, n_estimators=1800; total time=   9.2s\n",
            "[CV] END bootstrap=True, max_depth=85, max_features=4, min_samples_leaf=8, min_samples_split=10, n_estimators=1800; total time=   9.0s\n",
            "[CV] END bootstrap=True, max_depth=85, max_features=4, min_samples_leaf=8, min_samples_split=10, n_estimators=1800; total time=   9.1s\n",
            "[CV] END bootstrap=True, max_depth=85, max_features=4, min_samples_leaf=8, min_samples_split=10, n_estimators=1800; total time=   8.9s\n",
            "[CV] END bootstrap=True, max_depth=85, max_features=4, min_samples_leaf=8, min_samples_split=10, n_estimators=1800; total time=   9.0s\n",
            "[CV] END bootstrap=True, max_depth=85, max_features=4, min_samples_leaf=8, min_samples_split=10, n_estimators=1800; total time=   9.3s\n",
            "[CV] END bootstrap=True, max_depth=85, max_features=4, min_samples_leaf=8, min_samples_split=11, n_estimators=1800; total time=   9.4s\n",
            "[CV] END bootstrap=True, max_depth=85, max_features=4, min_samples_leaf=8, min_samples_split=11, n_estimators=1800; total time=   9.2s\n",
            "[CV] END bootstrap=True, max_depth=85, max_features=4, min_samples_leaf=8, min_samples_split=11, n_estimators=1800; total time=   8.8s\n",
            "[CV] END bootstrap=True, max_depth=85, max_features=4, min_samples_leaf=8, min_samples_split=11, n_estimators=1800; total time=   9.2s\n",
            "[CV] END bootstrap=True, max_depth=85, max_features=4, min_samples_leaf=8, min_samples_split=11, n_estimators=1800; total time=   9.5s\n",
            "[CV] END bootstrap=True, max_depth=85, max_features=4, min_samples_leaf=9, min_samples_split=10, n_estimators=1800; total time=   9.5s\n",
            "[CV] END bootstrap=True, max_depth=85, max_features=4, min_samples_leaf=9, min_samples_split=10, n_estimators=1800; total time=   9.4s\n",
            "[CV] END bootstrap=True, max_depth=85, max_features=4, min_samples_leaf=9, min_samples_split=10, n_estimators=1800; total time=   9.5s\n",
            "[CV] END bootstrap=True, max_depth=85, max_features=4, min_samples_leaf=9, min_samples_split=10, n_estimators=1800; total time=   9.1s\n",
            "[CV] END bootstrap=True, max_depth=85, max_features=4, min_samples_leaf=9, min_samples_split=10, n_estimators=1800; total time=   9.2s\n",
            "[CV] END bootstrap=True, max_depth=85, max_features=4, min_samples_leaf=9, min_samples_split=11, n_estimators=1800; total time=   9.5s\n",
            "[CV] END bootstrap=True, max_depth=85, max_features=4, min_samples_leaf=9, min_samples_split=11, n_estimators=1800; total time=   9.4s\n",
            "[CV] END bootstrap=True, max_depth=85, max_features=4, min_samples_leaf=9, min_samples_split=11, n_estimators=1800; total time=   9.1s\n",
            "[CV] END bootstrap=True, max_depth=85, max_features=4, min_samples_leaf=9, min_samples_split=11, n_estimators=1800; total time=   9.0s\n",
            "[CV] END bootstrap=True, max_depth=85, max_features=4, min_samples_leaf=9, min_samples_split=11, n_estimators=1800; total time=   9.0s\n",
            "[CV] END bootstrap=True, max_depth=90, max_features=3, min_samples_leaf=7, min_samples_split=10, n_estimators=1800; total time=   8.1s\n",
            "[CV] END bootstrap=True, max_depth=90, max_features=3, min_samples_leaf=7, min_samples_split=10, n_estimators=1800; total time=   8.1s\n",
            "[CV] END bootstrap=True, max_depth=90, max_features=3, min_samples_leaf=7, min_samples_split=10, n_estimators=1800; total time=   8.2s\n",
            "[CV] END bootstrap=True, max_depth=90, max_features=3, min_samples_leaf=7, min_samples_split=10, n_estimators=1800; total time=   8.0s\n",
            "[CV] END bootstrap=True, max_depth=90, max_features=3, min_samples_leaf=7, min_samples_split=10, n_estimators=1800; total time=   8.1s\n",
            "[CV] END bootstrap=True, max_depth=90, max_features=3, min_samples_leaf=7, min_samples_split=11, n_estimators=1800; total time=   8.7s\n",
            "[CV] END bootstrap=True, max_depth=90, max_features=3, min_samples_leaf=7, min_samples_split=11, n_estimators=1800; total time=   8.6s\n",
            "[CV] END bootstrap=True, max_depth=90, max_features=3, min_samples_leaf=7, min_samples_split=11, n_estimators=1800; total time=   7.6s\n",
            "[CV] END bootstrap=True, max_depth=90, max_features=3, min_samples_leaf=7, min_samples_split=11, n_estimators=1800; total time=   7.6s\n",
            "[CV] END bootstrap=True, max_depth=90, max_features=3, min_samples_leaf=7, min_samples_split=11, n_estimators=1800; total time=   7.7s\n",
            "[CV] END bootstrap=True, max_depth=90, max_features=3, min_samples_leaf=8, min_samples_split=10, n_estimators=1800; total time=   7.6s\n",
            "[CV] END bootstrap=True, max_depth=90, max_features=3, min_samples_leaf=8, min_samples_split=10, n_estimators=1800; total time=   7.7s\n",
            "[CV] END bootstrap=True, max_depth=90, max_features=3, min_samples_leaf=8, min_samples_split=10, n_estimators=1800; total time=   7.4s\n",
            "[CV] END bootstrap=True, max_depth=90, max_features=3, min_samples_leaf=8, min_samples_split=10, n_estimators=1800; total time=   7.4s\n",
            "[CV] END bootstrap=True, max_depth=90, max_features=3, min_samples_leaf=8, min_samples_split=10, n_estimators=1800; total time=   7.5s\n",
            "[CV] END bootstrap=True, max_depth=90, max_features=3, min_samples_leaf=8, min_samples_split=11, n_estimators=1800; total time=   7.6s\n",
            "[CV] END bootstrap=True, max_depth=90, max_features=3, min_samples_leaf=8, min_samples_split=11, n_estimators=1800; total time=   7.7s\n",
            "[CV] END bootstrap=True, max_depth=90, max_features=3, min_samples_leaf=8, min_samples_split=11, n_estimators=1800; total time=   7.5s\n",
            "[CV] END bootstrap=True, max_depth=90, max_features=3, min_samples_leaf=8, min_samples_split=11, n_estimators=1800; total time=   7.6s\n",
            "[CV] END bootstrap=True, max_depth=90, max_features=3, min_samples_leaf=8, min_samples_split=11, n_estimators=1800; total time=   7.7s\n",
            "[CV] END bootstrap=True, max_depth=90, max_features=3, min_samples_leaf=9, min_samples_split=10, n_estimators=1800; total time=   7.6s\n",
            "[CV] END bootstrap=True, max_depth=90, max_features=3, min_samples_leaf=9, min_samples_split=10, n_estimators=1800; total time=   7.4s\n",
            "[CV] END bootstrap=True, max_depth=90, max_features=3, min_samples_leaf=9, min_samples_split=10, n_estimators=1800; total time=   7.4s\n",
            "[CV] END bootstrap=True, max_depth=90, max_features=3, min_samples_leaf=9, min_samples_split=10, n_estimators=1800; total time=   7.4s\n",
            "[CV] END bootstrap=True, max_depth=90, max_features=3, min_samples_leaf=9, min_samples_split=10, n_estimators=1800; total time=   7.4s\n",
            "[CV] END bootstrap=True, max_depth=90, max_features=3, min_samples_leaf=9, min_samples_split=11, n_estimators=1800; total time=   7.5s\n",
            "[CV] END bootstrap=True, max_depth=90, max_features=3, min_samples_leaf=9, min_samples_split=11, n_estimators=1800; total time=   7.5s\n",
            "[CV] END bootstrap=True, max_depth=90, max_features=3, min_samples_leaf=9, min_samples_split=11, n_estimators=1800; total time=   7.4s\n",
            "[CV] END bootstrap=True, max_depth=90, max_features=3, min_samples_leaf=9, min_samples_split=11, n_estimators=1800; total time=   7.5s\n",
            "[CV] END bootstrap=True, max_depth=90, max_features=3, min_samples_leaf=9, min_samples_split=11, n_estimators=1800; total time=   7.5s\n",
            "[CV] END bootstrap=True, max_depth=90, max_features=4, min_samples_leaf=7, min_samples_split=10, n_estimators=1800; total time=   9.3s\n",
            "[CV] END bootstrap=True, max_depth=90, max_features=4, min_samples_leaf=7, min_samples_split=10, n_estimators=1800; total time=   9.3s\n",
            "[CV] END bootstrap=True, max_depth=90, max_features=4, min_samples_leaf=7, min_samples_split=10, n_estimators=1800; total time=   9.1s\n",
            "[CV] END bootstrap=True, max_depth=90, max_features=4, min_samples_leaf=7, min_samples_split=10, n_estimators=1800; total time=   9.2s\n",
            "[CV] END bootstrap=True, max_depth=90, max_features=4, min_samples_leaf=7, min_samples_split=10, n_estimators=1800; total time=   9.3s\n",
            "[CV] END bootstrap=True, max_depth=90, max_features=4, min_samples_leaf=7, min_samples_split=11, n_estimators=1800; total time=   9.3s\n",
            "[CV] END bootstrap=True, max_depth=90, max_features=4, min_samples_leaf=7, min_samples_split=11, n_estimators=1800; total time=   9.3s\n",
            "[CV] END bootstrap=True, max_depth=90, max_features=4, min_samples_leaf=7, min_samples_split=11, n_estimators=1800; total time=   9.3s\n",
            "[CV] END bootstrap=True, max_depth=90, max_features=4, min_samples_leaf=7, min_samples_split=11, n_estimators=1800; total time=   9.5s\n",
            "[CV] END bootstrap=True, max_depth=90, max_features=4, min_samples_leaf=7, min_samples_split=11, n_estimators=1800; total time=   9.4s\n",
            "[CV] END bootstrap=True, max_depth=90, max_features=4, min_samples_leaf=8, min_samples_split=10, n_estimators=1800; total time=   9.1s\n",
            "[CV] END bootstrap=True, max_depth=90, max_features=4, min_samples_leaf=8, min_samples_split=10, n_estimators=1800; total time=   9.1s\n",
            "[CV] END bootstrap=True, max_depth=90, max_features=4, min_samples_leaf=8, min_samples_split=10, n_estimators=1800; total time=   8.9s\n",
            "[CV] END bootstrap=True, max_depth=90, max_features=4, min_samples_leaf=8, min_samples_split=10, n_estimators=1800; total time=   9.0s\n",
            "[CV] END bootstrap=True, max_depth=90, max_features=4, min_samples_leaf=8, min_samples_split=10, n_estimators=1800; total time=   9.2s\n",
            "[CV] END bootstrap=True, max_depth=90, max_features=4, min_samples_leaf=8, min_samples_split=11, n_estimators=1800; total time=   9.6s\n",
            "[CV] END bootstrap=True, max_depth=90, max_features=4, min_samples_leaf=8, min_samples_split=11, n_estimators=1800; total time=   9.8s\n",
            "[CV] END bootstrap=True, max_depth=90, max_features=4, min_samples_leaf=8, min_samples_split=11, n_estimators=1800; total time=   9.3s\n",
            "[CV] END bootstrap=True, max_depth=90, max_features=4, min_samples_leaf=8, min_samples_split=11, n_estimators=1800; total time=   9.5s\n",
            "[CV] END bootstrap=True, max_depth=90, max_features=4, min_samples_leaf=8, min_samples_split=11, n_estimators=1800; total time=   9.4s\n",
            "[CV] END bootstrap=True, max_depth=90, max_features=4, min_samples_leaf=9, min_samples_split=10, n_estimators=1800; total time=   9.0s\n",
            "[CV] END bootstrap=True, max_depth=90, max_features=4, min_samples_leaf=9, min_samples_split=10, n_estimators=1800; total time=   9.1s\n",
            "[CV] END bootstrap=True, max_depth=90, max_features=4, min_samples_leaf=9, min_samples_split=10, n_estimators=1800; total time=   9.0s\n",
            "[CV] END bootstrap=True, max_depth=90, max_features=4, min_samples_leaf=9, min_samples_split=10, n_estimators=1800; total time=   9.0s\n",
            "[CV] END bootstrap=True, max_depth=90, max_features=4, min_samples_leaf=9, min_samples_split=10, n_estimators=1800; total time=   9.3s\n",
            "[CV] END bootstrap=True, max_depth=90, max_features=4, min_samples_leaf=9, min_samples_split=11, n_estimators=1800; total time=   9.2s\n",
            "[CV] END bootstrap=True, max_depth=90, max_features=4, min_samples_leaf=9, min_samples_split=11, n_estimators=1800; total time=   9.0s\n",
            "[CV] END bootstrap=True, max_depth=90, max_features=4, min_samples_leaf=9, min_samples_split=11, n_estimators=1800; total time=   9.1s\n",
            "[CV] END bootstrap=True, max_depth=90, max_features=4, min_samples_leaf=9, min_samples_split=11, n_estimators=1800; total time=  10.8s\n",
            "[CV] END bootstrap=True, max_depth=90, max_features=4, min_samples_leaf=9, min_samples_split=11, n_estimators=1800; total time=  10.4s\n",
            "[CV] END bootstrap=True, max_depth=95, max_features=3, min_samples_leaf=7, min_samples_split=10, n_estimators=1800; total time=   8.2s\n",
            "[CV] END bootstrap=True, max_depth=95, max_features=3, min_samples_leaf=7, min_samples_split=10, n_estimators=1800; total time=   8.1s\n",
            "[CV] END bootstrap=True, max_depth=95, max_features=3, min_samples_leaf=7, min_samples_split=10, n_estimators=1800; total time=   7.8s\n",
            "[CV] END bootstrap=True, max_depth=95, max_features=3, min_samples_leaf=7, min_samples_split=10, n_estimators=1800; total time=   7.9s\n",
            "[CV] END bootstrap=True, max_depth=95, max_features=3, min_samples_leaf=7, min_samples_split=10, n_estimators=1800; total time=   7.8s\n",
            "[CV] END bootstrap=True, max_depth=95, max_features=3, min_samples_leaf=7, min_samples_split=11, n_estimators=1800; total time=   8.1s\n",
            "[CV] END bootstrap=True, max_depth=95, max_features=3, min_samples_leaf=7, min_samples_split=11, n_estimators=1800; total time=   7.9s\n",
            "[CV] END bootstrap=True, max_depth=95, max_features=3, min_samples_leaf=7, min_samples_split=11, n_estimators=1800; total time=   7.7s\n",
            "[CV] END bootstrap=True, max_depth=95, max_features=3, min_samples_leaf=7, min_samples_split=11, n_estimators=1800; total time=   7.9s\n",
            "[CV] END bootstrap=True, max_depth=95, max_features=3, min_samples_leaf=7, min_samples_split=11, n_estimators=1800; total time=   7.8s\n",
            "[CV] END bootstrap=True, max_depth=95, max_features=3, min_samples_leaf=8, min_samples_split=10, n_estimators=1800; total time=   7.7s\n",
            "[CV] END bootstrap=True, max_depth=95, max_features=3, min_samples_leaf=8, min_samples_split=10, n_estimators=1800; total time=   7.9s\n",
            "[CV] END bootstrap=True, max_depth=95, max_features=3, min_samples_leaf=8, min_samples_split=10, n_estimators=1800; total time=   7.6s\n",
            "[CV] END bootstrap=True, max_depth=95, max_features=3, min_samples_leaf=8, min_samples_split=10, n_estimators=1800; total time=   7.7s\n",
            "[CV] END bootstrap=True, max_depth=95, max_features=3, min_samples_leaf=8, min_samples_split=10, n_estimators=1800; total time=   7.5s\n",
            "[CV] END bootstrap=True, max_depth=95, max_features=3, min_samples_leaf=8, min_samples_split=11, n_estimators=1800; total time=   7.5s\n",
            "[CV] END bootstrap=True, max_depth=95, max_features=3, min_samples_leaf=8, min_samples_split=11, n_estimators=1800; total time=   7.7s\n",
            "[CV] END bootstrap=True, max_depth=95, max_features=3, min_samples_leaf=8, min_samples_split=11, n_estimators=1800; total time=   7.7s\n",
            "[CV] END bootstrap=True, max_depth=95, max_features=3, min_samples_leaf=8, min_samples_split=11, n_estimators=1800; total time=   7.6s\n",
            "[CV] END bootstrap=True, max_depth=95, max_features=3, min_samples_leaf=8, min_samples_split=11, n_estimators=1800; total time=   7.4s\n",
            "[CV] END bootstrap=True, max_depth=95, max_features=3, min_samples_leaf=9, min_samples_split=10, n_estimators=1800; total time=   7.5s\n",
            "[CV] END bootstrap=True, max_depth=95, max_features=3, min_samples_leaf=9, min_samples_split=10, n_estimators=1800; total time=   7.6s\n",
            "[CV] END bootstrap=True, max_depth=95, max_features=3, min_samples_leaf=9, min_samples_split=10, n_estimators=1800; total time=   7.3s\n",
            "[CV] END bootstrap=True, max_depth=95, max_features=3, min_samples_leaf=9, min_samples_split=10, n_estimators=1800; total time=   7.4s\n",
            "[CV] END bootstrap=True, max_depth=95, max_features=3, min_samples_leaf=9, min_samples_split=10, n_estimators=1800; total time=   7.5s\n",
            "[CV] END bootstrap=True, max_depth=95, max_features=3, min_samples_leaf=9, min_samples_split=11, n_estimators=1800; total time=   7.4s\n",
            "[CV] END bootstrap=True, max_depth=95, max_features=3, min_samples_leaf=9, min_samples_split=11, n_estimators=1800; total time=   7.5s\n",
            "[CV] END bootstrap=True, max_depth=95, max_features=3, min_samples_leaf=9, min_samples_split=11, n_estimators=1800; total time=   7.3s\n",
            "[CV] END bootstrap=True, max_depth=95, max_features=3, min_samples_leaf=9, min_samples_split=11, n_estimators=1800; total time=   7.5s\n",
            "[CV] END bootstrap=True, max_depth=95, max_features=3, min_samples_leaf=9, min_samples_split=11, n_estimators=1800; total time=   7.6s\n",
            "[CV] END bootstrap=True, max_depth=95, max_features=4, min_samples_leaf=7, min_samples_split=10, n_estimators=1800; total time=   9.3s\n",
            "[CV] END bootstrap=True, max_depth=95, max_features=4, min_samples_leaf=7, min_samples_split=10, n_estimators=1800; total time=   9.4s\n",
            "[CV] END bootstrap=True, max_depth=95, max_features=4, min_samples_leaf=7, min_samples_split=10, n_estimators=1800; total time=   9.2s\n",
            "[CV] END bootstrap=True, max_depth=95, max_features=4, min_samples_leaf=7, min_samples_split=10, n_estimators=1800; total time=   9.2s\n",
            "[CV] END bootstrap=True, max_depth=95, max_features=4, min_samples_leaf=7, min_samples_split=10, n_estimators=1800; total time=   9.2s\n",
            "[CV] END bootstrap=True, max_depth=95, max_features=4, min_samples_leaf=7, min_samples_split=11, n_estimators=1800; total time=   9.4s\n",
            "[CV] END bootstrap=True, max_depth=95, max_features=4, min_samples_leaf=7, min_samples_split=11, n_estimators=1800; total time=   9.4s\n",
            "[CV] END bootstrap=True, max_depth=95, max_features=4, min_samples_leaf=7, min_samples_split=11, n_estimators=1800; total time=   9.4s\n",
            "[CV] END bootstrap=True, max_depth=95, max_features=4, min_samples_leaf=7, min_samples_split=11, n_estimators=1800; total time=   9.2s\n",
            "[CV] END bootstrap=True, max_depth=95, max_features=4, min_samples_leaf=7, min_samples_split=11, n_estimators=1800; total time=   9.3s\n",
            "[CV] END bootstrap=True, max_depth=95, max_features=4, min_samples_leaf=8, min_samples_split=10, n_estimators=1800; total time=   9.3s\n",
            "[CV] END bootstrap=True, max_depth=95, max_features=4, min_samples_leaf=8, min_samples_split=10, n_estimators=1800; total time=   9.2s\n",
            "[CV] END bootstrap=True, max_depth=95, max_features=4, min_samples_leaf=8, min_samples_split=10, n_estimators=1800; total time=   9.0s\n",
            "[CV] END bootstrap=True, max_depth=95, max_features=4, min_samples_leaf=8, min_samples_split=10, n_estimators=1800; total time=   9.1s\n",
            "[CV] END bootstrap=True, max_depth=95, max_features=4, min_samples_leaf=8, min_samples_split=10, n_estimators=1800; total time=   8.9s\n",
            "[CV] END bootstrap=True, max_depth=95, max_features=4, min_samples_leaf=8, min_samples_split=11, n_estimators=1800; total time=   9.2s\n",
            "[CV] END bootstrap=True, max_depth=95, max_features=4, min_samples_leaf=8, min_samples_split=11, n_estimators=1800; total time=   9.2s\n",
            "[CV] END bootstrap=True, max_depth=95, max_features=4, min_samples_leaf=8, min_samples_split=11, n_estimators=1800; total time=   8.9s\n",
            "[CV] END bootstrap=True, max_depth=95, max_features=4, min_samples_leaf=8, min_samples_split=11, n_estimators=1800; total time=   9.0s\n",
            "[CV] END bootstrap=True, max_depth=95, max_features=4, min_samples_leaf=8, min_samples_split=11, n_estimators=1800; total time=   9.2s\n",
            "[CV] END bootstrap=True, max_depth=95, max_features=4, min_samples_leaf=9, min_samples_split=10, n_estimators=1800; total time=   8.9s\n",
            "[CV] END bootstrap=True, max_depth=95, max_features=4, min_samples_leaf=9, min_samples_split=10, n_estimators=1800; total time=   8.9s\n",
            "[CV] END bootstrap=True, max_depth=95, max_features=4, min_samples_leaf=9, min_samples_split=10, n_estimators=1800; total time=   8.6s\n",
            "[CV] END bootstrap=True, max_depth=95, max_features=4, min_samples_leaf=9, min_samples_split=10, n_estimators=1800; total time=   8.7s\n",
            "[CV] END bootstrap=True, max_depth=95, max_features=4, min_samples_leaf=9, min_samples_split=10, n_estimators=1800; total time=   8.6s\n",
            "[CV] END bootstrap=True, max_depth=95, max_features=4, min_samples_leaf=9, min_samples_split=11, n_estimators=1800; total time=   8.7s\n",
            "[CV] END bootstrap=True, max_depth=95, max_features=4, min_samples_leaf=9, min_samples_split=11, n_estimators=1800; total time=   8.7s\n",
            "[CV] END bootstrap=True, max_depth=95, max_features=4, min_samples_leaf=9, min_samples_split=11, n_estimators=1800; total time=   8.6s\n",
            "[CV] END bootstrap=True, max_depth=95, max_features=4, min_samples_leaf=9, min_samples_split=11, n_estimators=1800; total time=   8.7s\n",
            "[CV] END bootstrap=True, max_depth=95, max_features=4, min_samples_leaf=9, min_samples_split=11, n_estimators=1800; total time=   8.6s\n"
          ]
        },
        {
          "output_type": "execute_result",
          "data": {
            "text/plain": [
              "GridSearchCV(cv=5, estimator=RandomForestRegressor(),\n",
              "             param_grid={'bootstrap': [True], 'max_depth': [85, 90, 95],\n",
              "                         'max_features': [3, 4], 'min_samples_leaf': [7, 8, 9],\n",
              "                         'min_samples_split': [10, 11],\n",
              "                         'n_estimators': [1800]},\n",
              "             verbose=2)"
            ]
          },
          "metadata": {},
          "execution_count": 179
        }
      ]
    },
    {
      "cell_type": "markdown",
      "source": [
        "Get best params"
      ],
      "metadata": {
        "id": "eYF6FolqrISe"
      }
    },
    {
      "cell_type": "code",
      "source": [
        "grid_search.best_params_"
      ],
      "metadata": {
        "colab": {
          "base_uri": "https://localhost:8080/"
        },
        "id": "-7ZjLivuB4e0",
        "outputId": "b6129838-14ad-41e3-e357-9cd12afda577"
      },
      "execution_count": 180,
      "outputs": [
        {
          "output_type": "execute_result",
          "data": {
            "text/plain": [
              "{'bootstrap': True,\n",
              " 'max_depth': 90,\n",
              " 'max_features': 3,\n",
              " 'min_samples_leaf': 7,\n",
              " 'min_samples_split': 10,\n",
              " 'n_estimators': 1800}"
            ]
          },
          "metadata": {},
          "execution_count": 180
        }
      ]
    },
    {
      "cell_type": "markdown",
      "source": [
        "Get an idea of its skill"
      ],
      "metadata": {
        "id": "7FXPdExXrKGX"
      }
    },
    {
      "cell_type": "code",
      "source": [
        "best_grid = grid_search.best_estimator_\n",
        "best_grid.score(X_test,y_test)"
      ],
      "metadata": {
        "colab": {
          "base_uri": "https://localhost:8080/"
        },
        "id": "rAw0tLQBJs8I",
        "outputId": "3f17e237-ad1f-457e-cf95-321bef22e517"
      },
      "execution_count": 181,
      "outputs": [
        {
          "output_type": "execute_result",
          "data": {
            "text/plain": [
              "0.2205956265836475"
            ]
          },
          "metadata": {},
          "execution_count": 181
        }
      ]
    },
    {
      "cell_type": "markdown",
      "source": [
        "The skill above is slightly lower than that of the random search, so the model parameter tuning may not yeld better results. It might be better to spend time on feature engineering."
      ],
      "metadata": {
        "id": "baP9W8WWrN2v"
      }
    },
    {
      "cell_type": "markdown",
      "source": [
        "Below we compare to the skill of a multiple linear regression model"
      ],
      "metadata": {
        "id": "qbLTGMLFrWD3"
      }
    },
    {
      "cell_type": "code",
      "source": [
        "from sklearn.linear_model import LinearRegression"
      ],
      "metadata": {
        "id": "ZWA2SdY7UzrF"
      },
      "execution_count": 152,
      "outputs": []
    },
    {
      "cell_type": "code",
      "source": [
        "reg = LinearRegression().fit(X_train, y_train)\n",
        "reg.score(X_test,y_test)"
      ],
      "metadata": {
        "colab": {
          "base_uri": "https://localhost:8080/"
        },
        "id": "5E4tHvs-nw8Z",
        "outputId": "95a10c38-54b7-4ddd-c4f2-18fe60cb0fdd"
      },
      "execution_count": 163,
      "outputs": [
        {
          "output_type": "execute_result",
          "data": {
            "text/plain": [
              "0.17725624772261717"
            ]
          },
          "metadata": {},
          "execution_count": 163
        }
      ]
    },
    {
      "cell_type": "markdown",
      "source": [
        "The coefficient of determination of the linear model is lower than that of the random forest model. However, the values are relatively low, so it might be useful to perform a visual inspection of the data on a graph (to see if the predictions follow the observed anomalies).\n",
        "Below, first we retrain an optimar RF model on the whole training dataset (this was not set explicitly in the cv options). Then the feature importances are plotted, followed by a graph of predictions and observations"
      ],
      "metadata": {
        "id": "91mkXoP7s_Et"
      }
    },
    {
      "cell_type": "code",
      "source": [
        "optimal_params = {'bootstrap': True,\n",
        "                  'max_depth': 90,\n",
        "                  'max_features': 4,\n",
        "                  'min_samples_leaf': 7,\n",
        "                  'min_samples_split': 10,\n",
        "                  'n_estimators': 1788}\n",
        "\n",
        "rf = RandomForestRegressor(**optimal_params).fit(X_train, y_train)"
      ],
      "metadata": {
        "id": "Szt0w6YYtfto"
      },
      "execution_count": 8,
      "outputs": []
    },
    {
      "cell_type": "code",
      "source": [
        "feature_importance = rf.feature_importances_\n",
        "std = np.std([tree.feature_importances_ for tree in rf.estimators_], axis=0)\n",
        "forest_importances = pd.Series(feature_importance, index=X.columns)\n",
        "fig, ax = plt.subplots()\n",
        "forest_importances.plot.bar(yerr=std, ax=ax)\n",
        "ax.set_title(\"Feature importances\")\n",
        "ax.set_ylabel(\"Mean decrease in impurity\")\n",
        "fig.tight_layout()"
      ],
      "metadata": {
        "colab": {
          "base_uri": "https://localhost:8080/",
          "height": 297
        },
        "id": "P8fQh3cZPxCT",
        "outputId": "ca2ef4d4-4e4f-4b3b-ee3b-8ea03d7e647e"
      },
      "execution_count": 70,
      "outputs": [
        {
          "output_type": "display_data",
          "data": {
            "image/png": "[encoded data removed]",
            "text/plain": [
              "<Figure size 432x288 with 1 Axes>"
            ]
          },
          "metadata": {
            "needs_background": "light"
          }
        }
      ]
    },
    {
      "cell_type": "markdown",
      "source": [
        "Not so surprising, the flow at the previous time step and its time difference are the two most important features. The seasonal features are not as important, and perhaps further feature engineering might be needed."
      ],
      "metadata": {
        "id": "sP48Zc8fRdjs"
      }
    },
    {
      "cell_type": "code",
      "source": [
        "predictions = rf.predict(X_test)\n",
        "\n",
        "plt.figure(figsize=(16, 8))\n",
        "\n",
        "plt.plot(y_test.index, predictions, label = \"prediction\")\n",
        "plt.plot(y_test.index, y_test, label = \"true\")\n",
        "plt.legend()\n",
        "plt.show()"
      ],
      "metadata": {
        "colab": {
          "base_uri": "https://localhost:8080/",
          "height": 483
        },
        "id": "QeuQ6bdVn7Uo",
        "outputId": "e582f98e-a870-4ae6-e1d3-f191adf6aadd"
      },
      "execution_count": 9,
      "outputs": [
        {
          "output_type": "display_data",
          "data": {
            "image/png": "[encoded data removed]",
            "text/plain": [
              "<Figure size 1152x576 with 1 Axes>"
            ]
          },
          "metadata": {
            "needs_background": "light"
          }
        }
      ]
    },
    {
      "cell_type": "markdown",
      "source": [
        "The predictions follow the data, but extremes are poorly represented. Perhaps it might be useful to create separate models, one for the high variability period (Spring-Summer) and another one for the low variability period."
      ],
      "metadata": {
        "id": "AuRgBwDuuweu"
      }
    },
    {
      "cell_type": "markdown",
      "source": [
        "Now we check the model's performance against persistence"
      ],
      "metadata": {
        "id": "8wEHJREHvU3M"
      }
    },
    {
      "cell_type": "code",
      "source": [
        "n_row = len(y)\n",
        "r2_score(y[1:n_row],y[0:n_row-1])"
      ],
      "metadata": {
        "colab": {
          "base_uri": "https://localhost:8080/"
        },
        "id": "1uFtFBp3vaLM",
        "outputId": "19ebd513-da2c-4670-d5c5-06bf89b5b77b"
      },
      "execution_count": 16,
      "outputs": [
        {
          "output_type": "execute_result",
          "data": {
            "text/plain": [
              "0.170843191989147"
            ]
          },
          "metadata": {},
          "execution_count": 16
        }
      ]
    },
    {
      "cell_type": "markdown",
      "source": [
        "Above we can see that the persistence score is lower than our RF score."
      ],
      "metadata": {
        "id": "U96di_4hwETl"
      }
    },
    {
      "cell_type": "markdown",
      "source": [
        "Finally, it would be useful to see model performance of anomaly amplitudes exceeding certain percentiles"
      ],
      "metadata": {
        "id": "y29rkmJQwRc9"
      }
    },
    {
      "cell_type": "code",
      "source": [
        "y_df = y_test.to_frame()[0:-1]\n",
        "y_df[\"predictions\"] = predictions\n",
        "y_df.columns = [\"observed\", \"predictions\"]\n",
        "\n",
        "y_df_extreme = y_df.loc[abs(y_df[\"observed\"]) > 10]\n",
        "y_df_moderate = y_df.loc[abs(y_df[\"observed\"]) <= 10]\n",
        "\n",
        "mae_ext = mean_absolute_error(y_df_extreme[\"observed\"], y_df_extreme[\"predictions\"])\n",
        "mae_mod = mean_absolute_error(y_df_moderate[\"observed\"], y_df_moderate[\"predictions\"])\n",
        "print(f\"The MAE of predictions for extreme conditions is {mae_ext}\")\n",
        "print(f\"The MAE of predictions for moderate conditions is {mae_mod}\")"
      ],
      "metadata": {
        "colab": {
          "base_uri": "https://localhost:8080/"
        },
        "id": "jihG7r0PB-Bn",
        "outputId": "56f91d22-6b7e-4f63-9580-d21fd0f37e06"
      },
      "execution_count": 65,
      "outputs": [
        {
          "output_type": "stream",
          "name": "stdout",
          "text": [
            "The MAE of predictions for extreme conditions is 15.90697049503257\n",
            "The MAE of predictions for moderate conditions is 2.5671296572509337\n"
          ]
        }
      ]
    },
    {
      "cell_type": "markdown",
      "source": [
        "# Conclusion from training/validation exercise\n",
        "\n",
        "\n",
        "*   From the training/validation exercise, it is clear that the RF model's performance is severely limited by its inability to capture extreme flow values, as revealed by the graph  and the MAE values shown above. It is possible that model performance can improve by training separate models on distinct periods (although data is reduced). \n",
        "*   The RF model performs better than both persistence and multiple linear regression. This, together with the visual inspection of the correspondence between predicted and observed values on the train dataset, gives some confidence that the model is effective at capturing relevant nonlinear processes.\n",
        "*   Further feature engineering might improve the model. More flow entries might help, as well as nonlinear meteorological features.\n",
        "\n"
      ],
      "metadata": {
        "id": "DoWqclyBNG8Q"
      }
    }
  ]
}